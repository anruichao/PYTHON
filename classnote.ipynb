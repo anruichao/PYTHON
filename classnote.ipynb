{
 "cells": [
  {
   "cell_type": "code",
   "execution_count": null,
   "metadata": {},
   "outputs": [],
   "source": [
    "import numpy as np \n",
    "import matplotlib\n",
    "from tkinter import Frame, Button, Label, StringVar, Tk, filedialog\n",
    "from matplotlib.figure import Figure\n",
    "from matplotlib.backends.backend_tkagg import FigureCanvasTkAgg\n",
    "\n",
    "class myclass:\n",
    "    def __init__(self.window):\n",
    "        self.window = window\n",
    "        button1 = Button(window,text=\"new button\",command=self.buttonpress)\n",
    "        button1.pack()\n",
    "        frame2 = Frame(window)\n",
    "        button2 = button(frame2.text=\"switch\",command=self.switch)\n",
    "        self.txtvar = StringVar()"
   ]
  },
  {
   "cell_type": "code",
   "execution_count": null,
   "metadata": {},
   "outputs": [],
   "source": [
    "import numpy as np \n",
    "import matplotlib\n",
    "from tkinter import Frame, Button, Label, StringVar, Tk, filedialog\n",
    "from matplotlib.figure import Figure\n",
    "from matplotlib.backends.backend_tkagg import FigureCanvasTkAgg\n",
    "class sorter:\n",
    "    def __init__(self,window,n):\n",
    "        self.n = n\n",
    "        self.window = window\n",
    "        self.data = np.argsort(np.random.uniform(size=n))\n",
    "        self.swaps = bubble(self.data.copy())[1]\n",
    "        self.initpaint()\n",
    "        self.update()\n",
    "    def initpaint(self):\n",
    "        self.fig = Figure(figsize=(6,6))\n",
    "        self.fig.patch.set_facecolor('black')\n",
    "        self.fig.subplots_adjust(left=0,bottom=0,top=1,right=1)\n",
    "        self.ax = self.fig.add_subplot(111)\n",
    "        self.ax.scatter(np.arange(self.n),self.data,color='yellow',edgecolors='black')\n",
    "        self.ax.axis('off')\n",
    "        self.canvas = FigureCanvasTkAgg(self.fig,master=self.window)\n",
    "        self.canvas.get_tk_widget().pack()\n",
    "        self.canvas.draw()\n",
    "    def update(self):\n",
    "        if not self.swaps: return\n",
    "        # Write code here\n",
    "        self.window.after(1,self.update)\n",
    "\n",
    "def bubble(data):\n",
    "    y = data.copy()\n",
    "    swaps = []\n",
    "    change = True\n",
    "    while change:\n",
    "        change = False\n",
    "        for i in range(y.shape[0]-1):\n",
    "            if y[i]>y[i+1]:\n",
    "                swaps += [(i,i+1)]\n",
    "                (y[i],y[i+1])=(y[i+1],y[i])\n",
    "                change = True\n",
    "    return(y,swaps)\n",
    "\n",
    "\n",
    "root = Tk()\n",
    "#my_gui = myclass(root)\n",
    "my_gui = sorter(root,20)\n",
    "root.mainloop()"
   ]
  },
  {
   "cell_type": "code",
   "execution_count": null,
   "metadata": {},
   "outputs": [],
   "source": [
    " "
   ]
  }
 ],
 "metadata": {
  "kernelspec": {
   "display_name": "Python 3",
   "language": "python",
   "name": "python3"
  },
  "language_info": {
   "codemirror_mode": {
    "name": "ipython",
    "version": 3
   },
   "file_extension": ".py",
   "mimetype": "text/x-python",
   "name": "python",
   "nbconvert_exporter": "python",
   "pygments_lexer": "ipython3",
   "version": "3.6.5"
  }
 },
 "nbformat": 4,
 "nbformat_minor": 2
}

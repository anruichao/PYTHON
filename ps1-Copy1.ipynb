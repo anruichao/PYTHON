{
 "cells": [
  {
   "cell_type": "code",
   "execution_count": 14,
   "metadata": {},
   "outputs": [
    {
     "ename": "SyntaxError",
     "evalue": "invalid syntax (<ipython-input-14-d61b893334b3>, line 2)",
     "output_type": "error",
     "traceback": [
      "\u001b[1;36m  File \u001b[1;32m\"<ipython-input-14-d61b893334b3>\"\u001b[1;36m, line \u001b[1;32m2\u001b[0m\n\u001b[1;33m    def aver = sum(list)/len(list)\u001b[0m\n\u001b[1;37m             ^\u001b[0m\n\u001b[1;31mSyntaxError\u001b[0m\u001b[1;31m:\u001b[0m invalid syntax\n"
     ]
    }
   ],
   "source": [
    "listx = [1,1,5,1,1]\n",
    "def aver = sum(list)/len(list)\n",
    "def var(list,aver):\n",
    "    var=0\n",
    "    for i in list:\n",
    "        var += (aver-i)**2\n",
    "        return var/len(list)\n",
    "var(listx,aver)"
   ]
  },
  {
   "cell_type": "code",
   "execution_count": 43,
   "metadata": {},
   "outputs": [
    {
     "data": {
      "text/plain": [
       "2.560000000000001"
      ]
     },
     "execution_count": 43,
     "metadata": {},
     "output_type": "execute_result"
    }
   ],
   "source": [
    "listx = [1,1,5,1,1]\n",
    "def var(list):\n",
    "    var=0\n",
    "    aver = sum(list)/len(list)\n",
    "    for i in list:\n",
    "        var += (aver-i)**2\n",
    "    return var/len(list)\n",
    "var(listx)\n"
   ]
  },
  {
   "cell_type": "code",
   "execution_count": 7,
   "metadata": {},
   "outputs": [
    {
     "data": {
      "text/plain": [
       "2.2"
      ]
     },
     "execution_count": 7,
     "metadata": {},
     "output_type": "execute_result"
    }
   ],
   "source": [
    "x = [1,1,3,1,1]\n",
    "y = [1,1,7,1,3]\n",
    "def mean(i):\n",
    "    return sum(i)/len(i)\n",
    "def cov(a,b):\n",
    "    a_mean = mean(a)\n",
    "    b_mean = mean(b)\n",
    "    cov = [(a[i]-a_mean) * (b[i]-b_mean)\n",
    "           for i in range(len(a))]\n",
    "    return sum(cov)/(len(cov)-1)\n",
    "cov(x,y)"
   ]
  },
  {
   "cell_type": "code",
   "execution_count": 33,
   "metadata": {},
   "outputs": [
    {
     "ename": "NameError",
     "evalue": "name 'n' is not defined",
     "output_type": "error",
     "traceback": [
      "\u001b[1;31m---------------------------------------------------------------------------\u001b[0m",
      "\u001b[1;31mNameError\u001b[0m                                 Traceback (most recent call last)",
      "\u001b[1;32m<ipython-input-33-86a6cf28158c>\u001b[0m in \u001b[0;36m<module>\u001b[1;34m()\u001b[0m\n\u001b[0;32m      4\u001b[0m \u001b[0mx\u001b[0m \u001b[1;33m=\u001b[0m \u001b[0mnp\u001b[0m\u001b[1;33m.\u001b[0m\u001b[0mmatrix\u001b[0m\u001b[1;33m(\u001b[0m\u001b[0mx\u001b[0m\u001b[1;33m)\u001b[0m\u001b[1;33m\u001b[0m\u001b[0m\n\u001b[0;32m      5\u001b[0m \u001b[0my\u001b[0m \u001b[1;33m=\u001b[0m \u001b[0mnp\u001b[0m\u001b[1;33m.\u001b[0m\u001b[0mmatrix\u001b[0m\u001b[1;33m(\u001b[0m\u001b[0my\u001b[0m\u001b[1;33m)\u001b[0m\u001b[1;33m\u001b[0m\u001b[0m\n\u001b[1;32m----> 6\u001b[1;33m \u001b[0mbigX\u001b[0m \u001b[1;33m=\u001b[0m \u001b[0mnp\u001b[0m\u001b[1;33m.\u001b[0m\u001b[0mones\u001b[0m\u001b[1;33m(\u001b[0m\u001b[1;33m(\u001b[0m\u001b[0mn\u001b[0m\u001b[1;33m,\u001b[0m\u001b[1;36m1\u001b[0m\u001b[1;33m)\u001b[0m\u001b[1;33m)\u001b[0m\u001b[1;33m\u001b[0m\u001b[0m\n\u001b[0m\u001b[0;32m      7\u001b[0m \u001b[0mprint\u001b[0m\u001b[1;33m(\u001b[0m\u001b[0mnp\u001b[0m\u001b[1;33m.\u001b[0m\u001b[0mdot\u001b[0m\u001b[1;33m(\u001b[0m\u001b[0mx\u001b[0m\u001b[1;33m,\u001b[0m\u001b[0my\u001b[0m\u001b[1;33m)\u001b[0m\u001b[1;33m)\u001b[0m\u001b[1;33m\u001b[0m\u001b[0m\n",
      "\u001b[1;31mNameError\u001b[0m: name 'n' is not defined"
     ]
    }
   ],
   "source": [
    "import numpy as np\n",
    "x = [[1,2],[3,4]]\n",
    "y = [[5],[8]]\n",
    "x = np.matrix(x)\n",
    "y = np.matrix(y)\n",
    "bigX = np.ones((n,1))\n",
    "print(np.dot(x,y))\n"
   ]
  },
  {
   "cell_type": "code",
   "execution_count": 51,
   "metadata": {},
   "outputs": [
    {
     "name": "stdout",
     "output_type": "stream",
     "text": [
      "6.5\n"
     ]
    }
   ],
   "source": [
    "import numpy as np\n",
    "y = [5,8]\n",
    "y = np.array(y)\n",
    "X = np.ones((len(y)))\n",
    "print(X.dot(y)/len(y))"
   ]
  },
  {
   "cell_type": "code",
   "execution_count": 47,
   "metadata": {},
   "outputs": [
    {
     "ename": "ValueError",
     "evalue": "shapes (2,1) and (2,) not aligned: 1 (dim 1) != 2 (dim 0)",
     "output_type": "error",
     "traceback": [
      "\u001b[1;31m---------------------------------------------------------------------------\u001b[0m",
      "\u001b[1;31mValueError\u001b[0m                                Traceback (most recent call last)",
      "\u001b[1;32m<ipython-input-47-d7f2e4becbcf>\u001b[0m in \u001b[0;36m<module>\u001b[1;34m()\u001b[0m\n\u001b[1;32m----> 1\u001b[1;33m \u001b[0mprint\u001b[0m\u001b[1;33m(\u001b[0m\u001b[0mX\u001b[0m\u001b[1;33m.\u001b[0m\u001b[0mdot\u001b[0m\u001b[1;33m(\u001b[0m\u001b[0my\u001b[0m\u001b[1;33m)\u001b[0m\u001b[1;33m/\u001b[0m\u001b[0mlen\u001b[0m\u001b[1;33m(\u001b[0m\u001b[0my\u001b[0m\u001b[1;33m)\u001b[0m\u001b[1;33m)\u001b[0m\u001b[1;33m\u001b[0m\u001b[0m\n\u001b[0m",
      "\u001b[1;31mValueError\u001b[0m: shapes (2,1) and (2,) not aligned: 1 (dim 1) != 2 (dim 0)"
     ]
    }
   ],
   "source": []
  },
  {
   "cell_type": "code",
   "execution_count": null,
   "metadata": {},
   "outputs": [],
   "source": [
    "count = 0\n",
    "for a in range(0,11):\n",
    "    for b in range(0,11):\n",
    "        x = a+b\n",
    "        if x%2 == 1:\n",
    "            count +=1\n",
    "        else \n",
    "count     \n",
    "##there are 60 of them will not converge"
   ]
  },
  {
   "cell_type": "code",
   "execution_count": 89,
   "metadata": {
    "scrolled": true
   },
   "outputs": [
    {
     "name": "stdout",
     "output_type": "stream",
     "text": [
      "1 1\n",
      "[1, 2, 1]\n",
      "1 3\n",
      "[2, 1, 4, 2]\n",
      "1 5\n",
      "[3, 8, 4, 2, 1, 6, 3]\n",
      "1 7\n",
      "[4, 2, 1, 8, 4]\n",
      "1 9\n",
      "[5, 14, 7, 16, 8, 4, 2, 1, 10, 5]\n",
      "2 2\n",
      "[2, 1, 4, 2]\n",
      "2 6\n",
      "[4, 2, 1, 8, 4]\n",
      "2 10\n",
      "[6, 3, 16, 8, 4, 2, 1, 12, 6]\n",
      "3 1\n",
      "[2, 1, 4, 2]\n",
      "3 3\n",
      "[3, 12, 6, 3]\n",
      "3 5\n",
      "[4, 2, 1, 8, 4]\n",
      "3 7\n",
      "[5, 22, 11, 40, 20, 10, 5]\n",
      "3 9\n",
      "[6, 3, 18, 9, 36, 18]\n",
      "4 4\n",
      "[4, 2, 1, 8, 4]\n",
      "5 1\n",
      "[3, 16, 8, 4, 2, 1, 6, 3]\n",
      "5 3\n",
      "[4, 2, 1, 8, 4]\n",
      "5 5\n",
      "[5, 30, 15, 80, 40, 20, 10, 5]\n",
      "5 7\n",
      "[6, 3, 22, 11, 62, 31, 162, 81, 412, 206, 103, 522, 261, 1312, 656, 328, 164, 82, 41, 212, 106, 53, 272, 136, 68, 34, 17, 92, 46, 23, 122, 61, 312, 156, 78, 39, 202, 101, 512, 256, 128, 64, 32, 16, 8, 4, 2, 1, 12, 6]\n",
      "5 9\n",
      "[7, 44, 22, 11, 64, 32, 16, 8, 4, 2, 1, 14, 7]\n",
      "6 2\n",
      "[4, 2, 1, 8, 4]\n",
      "6 6\n",
      "[6, 3, 24, 12, 6]\n",
      "6 10\n",
      "[8, 4, 2, 1, 16, 8]\n",
      "7 1\n",
      "[4, 2, 1, 8, 4]\n",
      "7 5\n",
      "[6, 3, 26, 13, 96, 48, 24, 12, 6]\n",
      "7 7\n",
      "[7, 56, 28, 14, 7]\n",
      "7 9\n",
      "[8, 4, 2, 1, 16, 8]\n",
      "8 8\n",
      "[8, 4, 2, 1, 16, 8]\n",
      "9 7\n",
      "[8, 4, 2, 1, 16, 8]\n",
      "10 2\n",
      "[6, 3, 32, 16, 8, 4, 2, 1, 12, 6]\n",
      "10 6\n",
      "[8, 4, 2, 1, 16, 8]\n",
      "10 10\n",
      "[10, 5, 60, 30, 15, 160, 80, 40, 20, 10]\n"
     ]
    }
   ],
   "source": [
    "def fuc(a,b):\n",
    "    x = a+b\n",
    "    outp = []\n",
    "    while len(outp)<=100:\n",
    "        if x%2==0:     \n",
    "            x = x//2\n",
    "        else:\n",
    "            x = (x*a) + b\n",
    "        if x not in outp:\n",
    "            outp.append(x)\n",
    "        else:\n",
    "            outp.append(x)\n",
    "            break\n",
    "    if len(outp)<=100:\n",
    "        print(a,b)\n",
    "        print(outp)\n",
    "            \n",
    "for a in range (1,11):\n",
    "    for b in range (1,11):\n",
    "        if (a+b)%2!=1:            \n",
    "            fuc(a,b)"
   ]
  },
  {
   "cell_type": "code",
   "execution_count": 56,
   "metadata": {},
   "outputs": [
    {
     "data": {
      "text/plain": [
       "<function __main__.fuction(a, b, c, d)>"
      ]
     },
     "execution_count": 56,
     "metadata": {},
     "output_type": "execute_result"
    }
   ],
   "source": [
    "def fuction(a,b,c,d):\n",
    "    i = [0]\n",
    "    print(i)\n",
    "fuction"
   ]
  },
  {
   "cell_type": "code",
   "execution_count": 41,
   "metadata": {},
   "outputs": [
    {
     "data": {
      "text/plain": [
       "[1.0, 1.0, -1.0, 1.0, -2.0]"
      ]
     },
     "execution_count": 41,
     "metadata": {},
     "output_type": "execute_result"
    }
   ],
   "source": [
    "listx = [1,1,3,1,4]\n",
    "def diff(list):\n",
    "    diff= []\n",
    "    aver = sum(list)/len(list)\n",
    "    for i in list:\n",
    "        diff.append(aver-i)\n",
    "    return diff\n",
    "diff(listx)"
   ]
  },
  {
   "cell_type": "code",
   "execution_count": null,
   "metadata": {},
   "outputs": [],
   "source": []
  }
 ],
 "metadata": {
  "kernelspec": {
   "display_name": "Python 3",
   "language": "python",
   "name": "python3"
  },
  "language_info": {
   "codemirror_mode": {
    "name": "ipython",
    "version": 3
   },
   "file_extension": ".py",
   "mimetype": "text/x-python",
   "name": "python",
   "nbconvert_exporter": "python",
   "pygments_lexer": "ipython3",
   "version": "3.6.5"
  }
 },
 "nbformat": 4,
 "nbformat_minor": 2
}

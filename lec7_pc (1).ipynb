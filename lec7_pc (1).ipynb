{
 "cells": [
  {
   "cell_type": "code",
   "execution_count": 103,
   "metadata": {},
   "outputs": [],
   "source": [
    "import numpy as np\n",
    "import pandas as pd\n",
    "import matplotlib as mpl\n",
    "import matplotlib.pyplot as plt\n",
    "import statsmodels.formula.api as smf\n",
    "import statsmodels.api as sm\n",
    "import sqlite3"
   ]
  },
  {
   "cell_type": "code",
   "execution_count": 102,
   "metadata": {},
   "outputs": [
    {
     "data": {
      "text/html": [
       "<div>\n",
       "<style scoped>\n",
       "    .dataframe tbody tr th:only-of-type {\n",
       "        vertical-align: middle;\n",
       "    }\n",
       "\n",
       "    .dataframe tbody tr th {\n",
       "        vertical-align: top;\n",
       "    }\n",
       "\n",
       "    .dataframe thead th {\n",
       "        text-align: right;\n",
       "    }\n",
       "</style>\n",
       "<table border=\"1\" class=\"dataframe\">\n",
       "  <thead>\n",
       "    <tr style=\"text-align: right;\">\n",
       "      <th></th>\n",
       "      <th>index</th>\n",
       "      <th>price</th>\n",
       "      <th>crime</th>\n",
       "      <th>nox</th>\n",
       "      <th>rooms</th>\n",
       "      <th>dist</th>\n",
       "      <th>radial</th>\n",
       "      <th>proptax</th>\n",
       "      <th>stratio</th>\n",
       "      <th>lowstat</th>\n",
       "      <th>lprice</th>\n",
       "      <th>lnox</th>\n",
       "      <th>lproptax</th>\n",
       "    </tr>\n",
       "  </thead>\n",
       "  <tbody>\n",
       "    <tr>\n",
       "      <th>0</th>\n",
       "      <td>0</td>\n",
       "      <td>24000</td>\n",
       "      <td>0.006</td>\n",
       "      <td>5.38</td>\n",
       "      <td>6.57</td>\n",
       "      <td>4.09</td>\n",
       "      <td>1</td>\n",
       "      <td>29.6</td>\n",
       "      <td>15.3</td>\n",
       "      <td>4.98</td>\n",
       "      <td>10.085810</td>\n",
       "      <td>1.682688</td>\n",
       "      <td>5.690360</td>\n",
       "    </tr>\n",
       "    <tr>\n",
       "      <th>1</th>\n",
       "      <td>1</td>\n",
       "      <td>21599</td>\n",
       "      <td>0.027</td>\n",
       "      <td>4.69</td>\n",
       "      <td>6.42</td>\n",
       "      <td>4.97</td>\n",
       "      <td>2</td>\n",
       "      <td>24.2</td>\n",
       "      <td>17.8</td>\n",
       "      <td>9.14</td>\n",
       "      <td>9.980402</td>\n",
       "      <td>1.545433</td>\n",
       "      <td>5.488938</td>\n",
       "    </tr>\n",
       "    <tr>\n",
       "      <th>2</th>\n",
       "      <td>2</td>\n",
       "      <td>34700</td>\n",
       "      <td>0.027</td>\n",
       "      <td>4.69</td>\n",
       "      <td>7.18</td>\n",
       "      <td>4.97</td>\n",
       "      <td>2</td>\n",
       "      <td>24.2</td>\n",
       "      <td>17.8</td>\n",
       "      <td>4.03</td>\n",
       "      <td>10.454500</td>\n",
       "      <td>1.545433</td>\n",
       "      <td>5.488938</td>\n",
       "    </tr>\n",
       "    <tr>\n",
       "      <th>3</th>\n",
       "      <td>3</td>\n",
       "      <td>33400</td>\n",
       "      <td>0.032</td>\n",
       "      <td>4.58</td>\n",
       "      <td>7.00</td>\n",
       "      <td>6.06</td>\n",
       "      <td>3</td>\n",
       "      <td>22.2</td>\n",
       "      <td>18.7</td>\n",
       "      <td>2.94</td>\n",
       "      <td>10.416310</td>\n",
       "      <td>1.521699</td>\n",
       "      <td>5.402678</td>\n",
       "    </tr>\n",
       "    <tr>\n",
       "      <th>4</th>\n",
       "      <td>4</td>\n",
       "      <td>36199</td>\n",
       "      <td>0.069</td>\n",
       "      <td>4.58</td>\n",
       "      <td>7.15</td>\n",
       "      <td>6.06</td>\n",
       "      <td>3</td>\n",
       "      <td>22.2</td>\n",
       "      <td>18.7</td>\n",
       "      <td>5.33</td>\n",
       "      <td>10.496790</td>\n",
       "      <td>1.521699</td>\n",
       "      <td>5.402678</td>\n",
       "    </tr>\n",
       "    <tr>\n",
       "      <th>5</th>\n",
       "      <td>5</td>\n",
       "      <td>28701</td>\n",
       "      <td>0.030</td>\n",
       "      <td>4.58</td>\n",
       "      <td>6.43</td>\n",
       "      <td>6.06</td>\n",
       "      <td>3</td>\n",
       "      <td>22.2</td>\n",
       "      <td>18.7</td>\n",
       "      <td>5.21</td>\n",
       "      <td>10.264690</td>\n",
       "      <td>1.521699</td>\n",
       "      <td>5.402678</td>\n",
       "    </tr>\n",
       "    <tr>\n",
       "      <th>6</th>\n",
       "      <td>6</td>\n",
       "      <td>22900</td>\n",
       "      <td>0.088</td>\n",
       "      <td>5.24</td>\n",
       "      <td>6.01</td>\n",
       "      <td>5.56</td>\n",
       "      <td>5</td>\n",
       "      <td>31.1</td>\n",
       "      <td>15.2</td>\n",
       "      <td>12.43</td>\n",
       "      <td>10.038890</td>\n",
       "      <td>1.656321</td>\n",
       "      <td>5.739793</td>\n",
       "    </tr>\n",
       "    <tr>\n",
       "      <th>7</th>\n",
       "      <td>7</td>\n",
       "      <td>27100</td>\n",
       "      <td>0.145</td>\n",
       "      <td>5.24</td>\n",
       "      <td>6.17</td>\n",
       "      <td>5.95</td>\n",
       "      <td>5</td>\n",
       "      <td>31.1</td>\n",
       "      <td>15.2</td>\n",
       "      <td>19.15</td>\n",
       "      <td>10.207290</td>\n",
       "      <td>1.656321</td>\n",
       "      <td>5.739793</td>\n",
       "    </tr>\n",
       "    <tr>\n",
       "      <th>8</th>\n",
       "      <td>8</td>\n",
       "      <td>16500</td>\n",
       "      <td>0.211</td>\n",
       "      <td>5.24</td>\n",
       "      <td>5.63</td>\n",
       "      <td>6.08</td>\n",
       "      <td>5</td>\n",
       "      <td>31.1</td>\n",
       "      <td>15.2</td>\n",
       "      <td>29.93</td>\n",
       "      <td>9.711116</td>\n",
       "      <td>1.656321</td>\n",
       "      <td>5.739793</td>\n",
       "    </tr>\n",
       "    <tr>\n",
       "      <th>9</th>\n",
       "      <td>9</td>\n",
       "      <td>18900</td>\n",
       "      <td>0.170</td>\n",
       "      <td>5.24</td>\n",
       "      <td>6.00</td>\n",
       "      <td>6.59</td>\n",
       "      <td>5</td>\n",
       "      <td>31.1</td>\n",
       "      <td>15.2</td>\n",
       "      <td>17.10</td>\n",
       "      <td>9.846917</td>\n",
       "      <td>1.656321</td>\n",
       "      <td>5.739793</td>\n",
       "    </tr>\n",
       "  </tbody>\n",
       "</table>\n",
       "</div>"
      ],
      "text/plain": [
       "   index  price  crime   nox  rooms  dist  radial  proptax  stratio  lowstat  \\\n",
       "0      0  24000  0.006  5.38   6.57  4.09       1     29.6     15.3     4.98   \n",
       "1      1  21599  0.027  4.69   6.42  4.97       2     24.2     17.8     9.14   \n",
       "2      2  34700  0.027  4.69   7.18  4.97       2     24.2     17.8     4.03   \n",
       "3      3  33400  0.032  4.58   7.00  6.06       3     22.2     18.7     2.94   \n",
       "4      4  36199  0.069  4.58   7.15  6.06       3     22.2     18.7     5.33   \n",
       "5      5  28701  0.030  4.58   6.43  6.06       3     22.2     18.7     5.21   \n",
       "6      6  22900  0.088  5.24   6.01  5.56       5     31.1     15.2    12.43   \n",
       "7      7  27100  0.145  5.24   6.17  5.95       5     31.1     15.2    19.15   \n",
       "8      8  16500  0.211  5.24   5.63  6.08       5     31.1     15.2    29.93   \n",
       "9      9  18900  0.170  5.24   6.00  6.59       5     31.1     15.2    17.10   \n",
       "\n",
       "      lprice      lnox  lproptax  \n",
       "0  10.085810  1.682688  5.690360  \n",
       "1   9.980402  1.545433  5.488938  \n",
       "2  10.454500  1.545433  5.488938  \n",
       "3  10.416310  1.521699  5.402678  \n",
       "4  10.496790  1.521699  5.402678  \n",
       "5  10.264690  1.521699  5.402678  \n",
       "6  10.038890  1.656321  5.739793  \n",
       "7  10.207290  1.656321  5.739793  \n",
       "8   9.711116  1.656321  5.739793  \n",
       "9   9.846917  1.656321  5.739793  "
      ]
     },
     "execution_count": 102,
     "metadata": {},
     "output_type": "execute_result"
    }
   ],
   "source": [
    "con = sqlite3.connect('wooldridge.db')\n",
    "hprice2 = pd.read_sql('select * from hprice2',con)\n",
    "hprice2.head(10)"
   ]
  },
  {
   "cell_type": "code",
   "execution_count": 106,
   "metadata": {},
   "outputs": [],
   "source": [
    "xdata = hprice2['crime']\n",
    "for name in hprice2.columns[3:9]:\n",
    "    xdata = pd.concat((xdata,hprice2[name]),1)    \n",
    "\n",
    "xdata = xdata.values\n",
    "(n,r) = xdata.shape"
   ]
  },
  {
   "cell_type": "code",
   "execution_count": 107,
   "metadata": {},
   "outputs": [],
   "source": [
    "xdata = xdata-xdata.mean(0)\n",
    "xdata = xdata/xdata.std(0)\n",
    "vcov = xdata.T.dot(xdata)/n\n",
    "(vals,vecs) = np.linalg.eigh(vcov)\n",
    "vals = np.flip(vals,0)\n",
    "vecs = np.fliplr(vecs)"
   ]
  },
  {
   "cell_type": "code",
   "execution_count": 108,
   "metadata": {},
   "outputs": [],
   "source": [
    "vtot = vals.sum()-vals.cumsum()\n",
    "vtot = np.insert(vtot,0,vals.sum())\n",
    "vals = np.insert(vals,0,vtot[0]/np.log(r))"
   ]
  },
  {
   "cell_type": "code",
   "execution_count": 109,
   "metadata": {},
   "outputs": [
    {
     "data": {
      "image/png": "[encoded data removed]",
      "text/plain": [
       "<Figure size 432x288 with 1 Axes>"
      ]
     },
     "metadata": {},
     "output_type": "display_data"
    }
   ],
   "source": [
    "fig = plt.figure()\n",
    "plt.plot(np.arange(r+1),vtot)\n",
    "plt.show()"
   ]
  },
  {
   "cell_type": "code",
   "execution_count": 110,
   "metadata": {},
   "outputs": [
    {
     "name": "stderr",
     "output_type": "stream",
     "text": [
      "C:\\Users\\Jason Parker\\Anaconda3\\lib\\site-packages\\ipykernel_launcher.py:2: RuntimeWarning: divide by zero encountered in true_divide\n",
      "  \n"
     ]
    },
    {
     "data": {
      "text/plain": [
       "[1, 1]"
      ]
     },
     "execution_count": 110,
     "metadata": {},
     "output_type": "execute_result"
    }
   ],
   "source": [
    "eratio = vals[:-1]/vals[1:]\n",
    "grate = np.log(1+vals/vtot)\n",
    "gratio = grate[:-1]/grate[1:]\n",
    "[eratio.argmax(),gratio.argmax()]"
   ]
  },
  {
   "cell_type": "code",
   "execution_count": 111,
   "metadata": {},
   "outputs": [
    {
     "data": {
      "text/plain": [
       "array([[ 0.3625453 , -0.00374878,  0.35793555],\n",
       "       [ 0.41563341, -0.35244461, -0.35576521],\n",
       "       [-0.22125965, -0.57063604,  0.64380882],\n",
       "       [-0.376282  ,  0.38348726,  0.37510681],\n",
       "       [ 0.45727618, -0.01460222,  0.34404309],\n",
       "       [ 0.46768096, -0.00865384,  0.2090202 ],\n",
       "       [ 0.2782783 ,  0.63465949,  0.16752093]])"
      ]
     },
     "execution_count": 111,
     "metadata": {},
     "output_type": "execute_result"
    }
   ],
   "source": [
    "pcs = vecs[:,:3]\n",
    "factors = xdata.dot(pcs)\n",
    "pcs"
   ]
  },
  {
   "cell_type": "code",
   "execution_count": 112,
   "metadata": {},
   "outputs": [],
   "source": [
    "pc = vecs[:,0]\n",
    "factors = xdata.dot(pc)"
   ]
  }
 ],
 "metadata": {
  "kernelspec": {
   "display_name": "Python 3",
   "language": "python",
   "name": "python3"
  },
  "language_info": {
   "codemirror_mode": {
    "name": "ipython",
    "version": 3
   },
   "file_extension": ".py",
   "mimetype": "text/x-python",
   "name": "python",
   "nbconvert_exporter": "python",
   "pygments_lexer": "ipython3",
   "version": "3.6.5"
  }
 },
 "nbformat": 4,
 "nbformat_minor": 2
}

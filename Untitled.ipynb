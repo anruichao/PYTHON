{
 "cells": [
  {
   "cell_type": "code",
   "execution_count": 6,
   "metadata": {},
   "outputs": [
    {
     "name": "stdout",
     "output_type": "stream",
     "text": [
      "['A♤', '2♤', '3♤', '4♤', '5♤', '6♤', '7♤', '8♤', '9♤', '10♤', 'J♤', 'Q♤', 'K♤', 'A♡', '2♡', '3♡', '4♡', '5♡', '6♡', '7♡', '8♡', '9♡', '10♡', 'J♡', 'Q♡', 'K♡', 'A♢', '2♢', '3♢', '4♢', '5♢', '6♢', '7♢', '8♢', '9♢', '10♢', 'J♢', 'Q♢', 'K♢', 'A♧', '2♧', '3♧', '4♧', '5♧', '6♧', '7♧', '8♧', '9♧', '10♧', 'J♧', 'Q♧', 'K♧']\n"
     ]
    },
    {
     "data": {
      "text/plain": [
       "0.00189"
      ]
     },
     "execution_count": 6,
     "metadata": {},
     "output_type": "execute_result"
    }
   ],
   "source": [
    "import random\n",
    "\n",
    "random.seed(52)\n",
    "suits = ['\\u2664','\\u2661','\\u2662','\\u2667']\n",
    "cards = ['A','2','3','4','5','6','7','8','9','10','J','Q','K']\n",
    "deck = []\n",
    "for suit in suits:\n",
    "    for card in cards:\n",
    "        deck += [card+suit]\n",
    "print(deck)\n",
    "\n",
    "nsim = 100000\n",
    "flushcount = 0 \n",
    "for isim in range(nsim):\n",
    "    shuffle = [(random.random(),card) for card in deck]\n",
    "    shuffle = [i[1] for i in sorted(shuffle)]\n",
    "    hand = shuffle[0:5]\n",
    "    suits = []\n",
    "    for item in hand:\n",
    "        if item[-1] not in suits:\n",
    "            suits += item[-1]\n",
    "    if len(suits) == 1:\n",
    "        flushcount += 1\n",
    "flushcount/nsim"
   ]
  }
 ],
 "metadata": {
  "kernelspec": {
   "display_name": "Python 3",
   "language": "python",
   "name": "python3"
  },
  "language_info": {
   "codemirror_mode": {
    "name": "ipython",
    "version": 3
   },
   "file_extension": ".py",
   "mimetype": "text/x-python",
   "name": "python",
   "nbconvert_exporter": "python",
   "pygments_lexer": "ipython3",
   "version": "3.6.5"
  }
 },
 "nbformat": 4,
 "nbformat_minor": 2
}

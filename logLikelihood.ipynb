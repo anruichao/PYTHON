{
 "cells": [
  {
   "cell_type": "code",
   "execution_count": 5,
   "metadata": {},
   "outputs": [],
   "source": [
    "import numpy as np\n",
    "import pandas as pd\n",
    "import statsmodels.api as sm\n",
    "import statsmodels.formula.api as smf"
   ]
  },
  {
   "cell_type": "code",
   "execution_count": 2,
   "metadata": {},
   "outputs": [],
   "source": [
    "bwght = pd.read_csv('bwght.csv')"
   ]
  },
  {
   "cell_type": "code",
   "execution_count": 3,
   "metadata": {},
   "outputs": [
    {
     "name": "stdout",
     "output_type": "stream",
     "text": [
      "(1388, 2)\n",
      "log likelihood -6130.414104234555\n"
     ]
    },
    {
     "data": {
      "text/plain": [
       "<__main__.ols at 0x24db21d8be0>"
      ]
     },
     "execution_count": 3,
     "metadata": {},
     "output_type": "execute_result"
    }
   ],
   "source": [
    "import csv\n",
    "import numpy as np\n",
    "import scipy.stats as sps\n",
    "from scipy.stats import norm\n",
    "import pandas as pd\n",
    "\n",
    "\n",
    "def cross(*args):  # Can put either 1 or 2 things into this function\n",
    "    x = args[0]\n",
    "    if len(args) == 1:\n",
    "        y = x\n",
    "    else:\n",
    "        y = args[1]\n",
    "    return (x.T.dot(y))\n",
    "\n",
    "\n",
    "ls = lambda X, y: np.linalg.solve(cross(X), cross(X, y))\n",
    "\n",
    "\n",
    "class ols:\n",
    "    def __init__(self, X, y):\n",
    "        self.n = X.shape[0]\n",
    "        print(X.shape)\n",
    "        self.X = np.hstack((np.ones((self.n, 1)), X))\n",
    "        self.y = y\n",
    "        self.b = ls(self.X, self.y)\n",
    "        self.pred = self.X.dot(self.b)\n",
    "        self.res = self.y - self.pred\n",
    "        RSS = cross(self.res)[0, 0]\n",
    "        ybar = self.y.mean()\n",
    "        e_0 = self.y - ybar\n",
    "        TSS = cross(e_0)[0, 0]\n",
    "        self.rsq = 1 - RSS / TSS\n",
    "        sig = np.sqrt(RSS / self.n)\n",
    "        self.vcov = np.linalg.inv(cross(self.X)) * (sig ** 2)\n",
    "        \n",
    "        self.logLikelihood = -self.n/2 * np.log(2*np.pi*sig**2) - self.n/(2*sig**2) * self.res.T.dot(self.res)/self.n\n",
    "        self.logLikelihood = self.logLikelihood[0,0]\n",
    "        print(\"log likelihood\", self.logLikelihood)\n",
    "    def predict(self, newX):\n",
    "        newn = newX.shape[0]\n",
    "        newX = np.hstack((np.ones((newn, 1)), newX))\n",
    "        return newX.dot(self.b)\n",
    "\n",
    "    def tidy(self):\n",
    "        se = np.sqrt(np.diag(self.vcov)).reshape(-1, 1)\n",
    "        tstats = self.b / se\n",
    "        pval = norm.cdf(-np.abs(tstats)) * 2\n",
    "        outp = np.hstack((self.b, se, tstats, pval))\n",
    "        outp = pd.DataFrame(outp)\n",
    "        outp.columns = ['beta', 'stderr', 'tstat', 'pval']\n",
    "        print(outp)\n",
    "        print(\"RSq=\" + str(self.rsq))\n",
    "        \n",
    "        \n",
    "ols(bwght[['cigs','faminc']].values, bwght['bwght'].values.reshape((-1,1)))"
   ]
  },
  {
   "cell_type": "code",
   "execution_count": 6,
   "metadata": {},
   "outputs": [
    {
     "data": {
      "text/html": [
       "<table class=\"simpletable\">\n",
       "<caption>OLS Regression Results</caption>\n",
       "<tr>\n",
       "  <th>Dep. Variable:</th>          <td>bwght</td>      <th>  R-squared:         </th> <td>   0.030</td> \n",
       "</tr>\n",
       "<tr>\n",
       "  <th>Model:</th>                   <td>OLS</td>       <th>  Adj. R-squared:    </th> <td>   0.028</td> \n",
       "</tr>\n",
       "<tr>\n",
       "  <th>Method:</th>             <td>Least Squares</td>  <th>  F-statistic:       </th> <td>   21.27</td> \n",
       "</tr>\n",
       "<tr>\n",
       "  <th>Date:</th>             <td>Fri, 05 Oct 2018</td> <th>  Prob (F-statistic):</th> <td>7.94e-10</td> \n",
       "</tr>\n",
       "<tr>\n",
       "  <th>Time:</th>                 <td>21:52:59</td>     <th>  Log-Likelihood:    </th> <td> -6130.4</td> \n",
       "</tr>\n",
       "<tr>\n",
       "  <th>No. Observations:</th>      <td>  1388</td>      <th>  AIC:               </th> <td>1.227e+04</td>\n",
       "</tr>\n",
       "<tr>\n",
       "  <th>Df Residuals:</th>          <td>  1385</td>      <th>  BIC:               </th> <td>1.228e+04</td>\n",
       "</tr>\n",
       "<tr>\n",
       "  <th>Df Model:</th>              <td>     2</td>      <th>                     </th>     <td> </td>    \n",
       "</tr>\n",
       "<tr>\n",
       "  <th>Covariance Type:</th>      <td>nonrobust</td>    <th>                     </th>     <td> </td>    \n",
       "</tr>\n",
       "</table>\n",
       "<table class=\"simpletable\">\n",
       "<tr>\n",
       "     <td></td>       <th>coef</th>     <th>std err</th>      <th>t</th>      <th>P>|t|</th>  <th>[0.025</th>    <th>0.975]</th>  \n",
       "</tr>\n",
       "<tr>\n",
       "  <th>const</th>  <td>  116.9741</td> <td>    1.049</td> <td>  111.512</td> <td> 0.000</td> <td>  114.916</td> <td>  119.032</td>\n",
       "</tr>\n",
       "<tr>\n",
       "  <th>cigs</th>   <td>   -0.4634</td> <td>    0.092</td> <td>   -5.060</td> <td> 0.000</td> <td>   -0.643</td> <td>   -0.284</td>\n",
       "</tr>\n",
       "<tr>\n",
       "  <th>faminc</th> <td>    0.0928</td> <td>    0.029</td> <td>    3.178</td> <td> 0.002</td> <td>    0.036</td> <td>    0.150</td>\n",
       "</tr>\n",
       "</table>\n",
       "<table class=\"simpletable\">\n",
       "<tr>\n",
       "  <th>Omnibus:</th>       <td>116.751</td> <th>  Durbin-Watson:     </th> <td>   1.922</td> \n",
       "</tr>\n",
       "<tr>\n",
       "  <th>Prob(Omnibus):</th> <td> 0.000</td>  <th>  Jarque-Bera (JB):  </th> <td> 619.781</td> \n",
       "</tr>\n",
       "<tr>\n",
       "  <th>Skew:</th>          <td>-0.154</td>  <th>  Prob(JB):          </th> <td>2.61e-135</td>\n",
       "</tr>\n",
       "<tr>\n",
       "  <th>Kurtosis:</th>      <td> 6.259</td>  <th>  Cond. No.          </th> <td>    67.4</td> \n",
       "</tr>\n",
       "</table><br/><br/>Warnings:<br/>[1] Standard Errors assume that the covariance matrix of the errors is correctly specified."
      ],
      "text/plain": [
       "<class 'statsmodels.iolib.summary.Summary'>\n",
       "\"\"\"\n",
       "                            OLS Regression Results                            \n",
       "==============================================================================\n",
       "Dep. Variable:                  bwght   R-squared:                       0.030\n",
       "Model:                            OLS   Adj. R-squared:                  0.028\n",
       "Method:                 Least Squares   F-statistic:                     21.27\n",
       "Date:                Fri, 05 Oct 2018   Prob (F-statistic):           7.94e-10\n",
       "Time:                        21:52:59   Log-Likelihood:                -6130.4\n",
       "No. Observations:                1388   AIC:                         1.227e+04\n",
       "Df Residuals:                    1385   BIC:                         1.228e+04\n",
       "Df Model:                           2                                         \n",
       "Covariance Type:            nonrobust                                         \n",
       "==============================================================================\n",
       "                 coef    std err          t      P>|t|      [0.025      0.975]\n",
       "------------------------------------------------------------------------------\n",
       "const        116.9741      1.049    111.512      0.000     114.916     119.032\n",
       "cigs          -0.4634      0.092     -5.060      0.000      -0.643      -0.284\n",
       "faminc         0.0928      0.029      3.178      0.002       0.036       0.150\n",
       "==============================================================================\n",
       "Omnibus:                      116.751   Durbin-Watson:                   1.922\n",
       "Prob(Omnibus):                  0.000   Jarque-Bera (JB):              619.781\n",
       "Skew:                          -0.154   Prob(JB):                    2.61e-135\n",
       "Kurtosis:                       6.259   Cond. No.                         67.4\n",
       "==============================================================================\n",
       "\n",
       "Warnings:\n",
       "[1] Standard Errors assume that the covariance matrix of the errors is correctly specified.\n",
       "\"\"\""
      ]
     },
     "execution_count": 6,
     "metadata": {},
     "output_type": "execute_result"
    }
   ],
   "source": [
    "Xdata = pd.concat((bwght['cigs'],bwght['faminc']),axis=1)\n",
    "Xdata = sm.add_constant(Xdata)\n",
    "model1 = sm.OLS(bwght['bwght'],Xdata).fit()\n",
    "model1.summary()"
   ]
  },
  {
   "cell_type": "code",
   "execution_count": null,
   "metadata": {},
   "outputs": [],
   "source": []
  }
 ],
 "metadata": {
  "kernelspec": {
   "display_name": "Python 3",
   "language": "python",
   "name": "python3"
  },
  "language_info": {
   "codemirror_mode": {
    "name": "ipython",
    "version": 3
   },
   "file_extension": ".py",
   "mimetype": "text/x-python",
   "name": "python",
   "nbconvert_exporter": "python",
   "pygments_lexer": "ipython3",
   "version": "3.6.5"
  }
 },
 "nbformat": 4,
 "nbformat_minor": 2
}

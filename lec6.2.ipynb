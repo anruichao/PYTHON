{
 "cells": [
  {
   "cell_type": "code",
   "execution_count": 1,
   "metadata": {},
   "outputs": [],
   "source": [
    "import numpy as np\n",
    "import pandas as pd\n",
    "import matplotlib as mpl\n",
    "import matplotlib.pyplot as plt\n",
    "import statsmodels.formula.api as smf\n",
    "import statsmodels.api as sm"
   ]
  },
  {
   "cell_type": "code",
   "execution_count": 2,
   "metadata": {},
   "outputs": [],
   "source": [
    "bwght = pd.read_csv('BWGHT.CSV')"
   ]
  },
  {
   "cell_type": "code",
   "execution_count": 3,
   "metadata": {},
   "outputs": [],
   "source": [
    "import sqlite3\n",
    "#use sql"
   ]
  },
  {
   "cell_type": "code",
   "execution_count": 4,
   "metadata": {},
   "outputs": [],
   "source": [
    "con = sqlite3.connect(\"bwght.db\")\n",
    "# con = sqlite3.connect(\":memory:\")\n",
    "c = con.cursor()\n"
   ]
  },
  {
   "cell_type": "code",
   "execution_count": 5,
   "metadata": {},
   "outputs": [],
   "source": [
    "bwght.to_sql('BTABLE',con)"
   ]
  },
  {
   "cell_type": "code",
   "execution_count": 8,
   "metadata": {},
   "outputs": [
    {
     "name": "stdout",
     "output_type": "stream",
     "text": [
      "[(1303, 27.5, 2.5, 109.4, 90, None, 12.0, 5, 1, 0, 50, 4.49981, 5.625, 2.5, 3.314186)]\n"
     ]
    }
   ],
   "source": [
    "c.execute('SELECT * FROM BTABLE WHERE cigs=50')\n",
    "print(c.fetchall())"
   ]
  },
  {
   "cell_type": "code",
   "execution_count": 10,
   "metadata": {},
   "outputs": [
    {
     "name": "stdout",
     "output_type": "stream",
     "text": [
      "(74, 18.5, 21.0, 127.7, 115, 3.0, 12.0, 1, 0, 0, 40, 4.744932, 7.1875, 2.0, 2.917771)\n",
      "(121, 6.5, 10.0, 126.4, 122, None, 10.0, 1, 1, 1, 40, 4.804021, 7.625, 2.0, 1.871802)\n",
      "(298, 27.5, 24.0, 139.8, 81, 13.0, 12.0, 4, 0, 1, 40, 4.394449, 5.0625, 2.0, 3.314186)\n",
      "(435, 37.5, 34.0, 145.1, 116, 13.0, 14.0, 1, 1, 1, 30, 4.75359, 7.25, 1.5, 3.6243410000000003)\n",
      "(513, 11.5, 16.0, 130.7, 91, 8.0, 10.0, 1, 1, 1, 30, 4.510859, 5.6875, 1.5, 2.4423470000000003)\n",
      "(616, 22.5, 25.0, 133.0, 136, 14.0, 8.0, 1, 1, 1, 40, 4.912655, 8.5, 2.0, 3.113515)\n",
      "(882, 22.5, 2.0, 107.6, 94, 8.0, 8.0, 2, 0, 1, 30, 4.543295, 5.875, 1.5, 3.113515)\n",
      "(894, 2.5, 18.0, 120.5, 102, None, 10.0, 1, 0, 1, 30, 4.624973000000001, 6.375, 1.5, 0.9162908000000001)\n",
      "(895, 3.5, 18.0, 120.5, 138, None, 10.0, 3, 1, 0, 30, 4.9272540000000005, 8.625, 1.5, 1.2527629999999998)\n",
      "(976, 5.5, 23.0, 133.4, 89, 9.0, 8.0, 2, 1, 0, 40, 4.488636, 5.5625, 2.0, 1.704748)\n",
      "(1239, 0.5, 26.0, 137.0, 121, None, 12.0, 2, 1, 0, 46, 4.795791, 7.5625, 2.3, -0.6931472)\n",
      "(1263, 22.5, 23.0, 135.6, 96, 10.0, 10.0, 2, 0, 1, 40, 4.564348000000001, 6.0, 2.0, 3.113515)\n",
      "(1303, 27.5, 2.5, 109.4, 90, None, 12.0, 5, 1, 0, 50, 4.49981, 5.625, 2.5, 3.314186)\n"
     ]
    }
   ],
   "source": [
    "c.execute('SELECT * FROM BTABLE WHERE cigs>20')\n",
    "for item in c.fetchall():\n",
    "    print(item)\n",
    "#可以分行显示"
   ]
  },
  {
   "cell_type": "code",
   "execution_count": 11,
   "metadata": {},
   "outputs": [],
   "source": [
    "def hailstone(x):\n",
    "    step = 0\n",
    "    while x!=1:\n",
    "        step += 1\n",
    "        x = x/2 if x%2==0 else 3*x+1\n",
    "    return step"
   ]
  },
  {
   "cell_type": "code",
   "execution_count": 13,
   "metadata": {},
   "outputs": [
    {
     "name": "stdout",
     "output_type": "stream",
     "text": [
      "(8, 40)\n",
      "(8, 40)\n",
      "(8, 40)\n",
      "(18, 30)\n",
      "(18, 30)\n",
      "(8, 40)\n",
      "(18, 30)\n",
      "(18, 30)\n",
      "(18, 30)\n",
      "(8, 40)\n",
      "(16, 46)\n",
      "(8, 40)\n",
      "(24, 50)\n"
     ]
    }
   ],
   "source": [
    "con.create_function('hs',1,hailstone)\n",
    "# 1= take 1 argument not 2\n",
    "c.execute('SELECT hs(cigs), cigs FROM BTABLE WHERE cigs>20')\n",
    "#用这些数字 放进hali看多久可以循环\n",
    "for item in c.fetchall():\n",
    "    print(item)"
   ]
  },
  {
   "cell_type": "code",
   "execution_count": null,
   "metadata": {
    "collapsed": true
   },
   "outputs": [],
   "source": []
  },
  {
   "cell_type": "code",
   "execution_count": 14,
   "metadata": {},
   "outputs": [],
   "source": [
    "class geomean:\n",
    "    def __init__(self): # Constructor\n",
    "        self.sum = 0\n",
    "        self.count = 0\n",
    "    def step(self,value): # What to do when we get a new value\n",
    "        self.sum += np.log(value)\n",
    "#use log to avoid to big value\n",
    "        self.count += 1\n",
    "    def finalize(self):\n",
    "        return np.exp(self.sum/self.count)\n",
    "#define a function"
   ]
  },
  {
   "cell_type": "code",
   "execution_count": 15,
   "metadata": {
    "scrolled": true
   },
   "outputs": [
    {
     "name": "stdout",
     "output_type": "stream",
     "text": [
      "(118.12914912512608, 0, 1176)\n",
      "(122.01151015653141, 1, 3)\n",
      "(108.25224006111848, 2, 4)\n",
      "(114.32987300163663, 3, 7)\n",
      "(108.60626107277508, 4, 9)\n",
      "(112.90200845344134, 5, 19)\n",
      "(121.44933131428813, 6, 6)\n",
      "(119.16422565354631, 7, 4)\n",
      "(87.69083957636508, 8, 5)\n",
      "(127.99999999999997, 9, 1)\n",
      "(110.78738483467163, 10, 55)\n",
      "(105.91537925146471, 12, 5)\n",
      "(106.73221579113947, 15, 19)\n",
      "(108.05121183968193, 20, 62)\n",
      "(106.91073090784444, 30, 5)\n",
      "(104.74271003586932, 40, 6)\n",
      "(121.00000000000003, 46, 1)\n",
      "(90.0, 50, 1)\n"
     ]
    }
   ],
   "source": [
    "con.create_aggregate(\"GEO\",1,geomean)\n",
    "#use last function\n",
    "c.execute('SELECT GEO(bwght),cigs,COUNT(bwght) FROM BTABLE GROUP BY cigs;')\n",
    "for item in c.fetchall():\n",
    "    print(item)"
   ]
  },
  {
   "cell_type": "code",
   "execution_count": 77,
   "metadata": {},
   "outputs": [
    {
     "name": "stdout",
     "output_type": "stream",
     "text": [
      "(122.01151015653136, 1, 3)\n",
      "(108.25224006111847, 2, 4)\n",
      "(114.32987300163668, 3, 7)\n",
      "(108.60626107277498, 4, 9)\n",
      "(112.90200845344124, 5, 19)\n",
      "(121.44933131428802, 6, 6)\n",
      "(119.16422565354631, 7, 4)\n",
      "(87.69083957636506, 8, 5)\n",
      "(128.0, 9, 1)\n",
      "(110.7873848346715, 10, 55)\n",
      "(105.9153792514647, 12, 5)\n",
      "(106.73221579113957, 15, 19)\n",
      "(108.05121183968178, 20, 62)\n",
      "(106.91073090784451, 30, 5)\n",
      "(104.74271003586931, 40, 6)\n",
      "(121.0, 46, 1)\n",
      "(90.0, 50, 1)\n"
     ]
    }
   ],
   "source": [
    "con.create_aggregate(\"GEO2\",1,geomean2)\n",
    "c.execute('SELECT GEO2(bwght),cigs,COUNT(bwght) FROM BTABLE WHERE cigs>0 GROUP BY cigs ;')\n",
    "for item in c.fetchall():\n",
    "    print(item)"
   ]
  },
  {
   "cell_type": "code",
   "execution_count": 16,
   "metadata": {},
   "outputs": [],
   "source": [
    "con.commit()\n",
    "con.close()"
   ]
  },
  {
   "cell_type": "code",
   "execution_count": 20,
   "metadata": {},
   "outputs": [
    {
     "data": {
      "text/plain": [
       "const    116.974130\n",
       "x1        -0.463408\n",
       "x2         0.092765\n",
       "dtype: float64"
      ]
     },
     "execution_count": 20,
     "metadata": {},
     "output_type": "execute_result"
    }
   ],
   "source": [
    "#bootstrapping\n",
    "xdata = pd.concat((bwght['cigs'],bwght['faminc']),1).values\n",
    "xdata = sm.add_constant(xdata)\n",
    "ydata = bwght['bwght']\n",
    "model = smf.OLS(ydata,xdata).fit()\n",
    "beta = model.params\n",
    "resid = ydata-model.predict()\n",
    "beta"
   ]
  },
  {
   "cell_type": "code",
   "execution_count": 21,
   "metadata": {},
   "outputs": [
    {
     "data": {
      "text/plain": [
       "array([[ 1.18220153e+02, -3.84398198e-01,  5.97022291e-02],\n",
       "       [ 1.15994361e+02, -5.28946526e-01,  1.21711117e-01],\n",
       "       [ 1.17228134e+02, -6.04815040e-01,  9.03409114e-02],\n",
       "       ...,\n",
       "       [ 1.17150948e+02, -3.14383015e-01,  6.01915145e-02],\n",
       "       [ 1.18289420e+02, -4.59705833e-01,  5.92096752e-02],\n",
       "       [ 1.18860516e+02, -5.33689246e-01,  4.27581678e-02]])"
      ]
     },
     "execution_count": 21,
     "metadata": {},
     "output_type": "execute_result"
    }
   ],
   "source": [
    "#beta[1] = 0.0\n",
    "bstar = np.zeros((10000,3))\n",
    "for isim in range(10000):\n",
    "    sample =  np.random.randint(low=0,high=1388,size=(1388,))\n",
    "#a simple without replacement\n",
    "    xxdata = xdata[sample]\n",
    "    yydata = xxdata.dot(beta)+resid[sample]\n",
    "    model = smf.OLS(yydata,xxdata).fit()\n",
    "    bstar[isim,:] = model.params\n",
    "bstar"
   ]
  },
  {
   "cell_type": "code",
   "execution_count": 105,
   "metadata": {},
   "outputs": [
    {
     "name": "stdout",
     "output_type": "stream",
     "text": [
      "[ 114.96070174   -0.17746492    0.03597279]\n",
      "[ 118.9930044     0.16916835    0.14896821]\n"
     ]
    }
   ],
   "source": [
    "np.set_printoptions(suppress=True)\n",
    "bstar[:,0].sort()\n",
    "bstar[:,1].sort()\n",
    "bstar[:,2].sort()\n",
    "print(bstar[int(10000*0.025)])\n",
    "print(bstar[int(10000*0.975)])\n",
    "#confidance interval for beta 0 1 2   we can see if zero in to see significant   all significant here\n",
    "#"
   ]
  },
  {
   "cell_type": "code",
   "execution_count": 118,
   "metadata": {},
   "outputs": [
    {
     "data": {
      "text/plain": [
       "array([ 111.51182089,   -5.06031465,    3.17819498])"
      ]
     },
     "execution_count": 118,
     "metadata": {},
     "output_type": "execute_result"
    }
   ],
   "source": [
    "xdata = pd.concat((bwght['cigs'],bwght['faminc']),1).values\n",
    "xdata = sm.add_constant(xdata)\n",
    "ydata = bwght['bwght'].values\n",
    "model = smf.OLS(ydata,xdata).fit()\n",
    "beta = model.params\n",
    "resid = ydata-model.predict()\n",
    "model.tvalues"
   ]
  },
  {
   "cell_type": "code",
   "execution_count": 114,
   "metadata": {},
   "outputs": [
    {
     "name": "stdout",
     "output_type": "stream",
     "text": [
      "[-1.94493614 -1.91895985 -1.91704485]\n",
      "[ 1.92886679  1.90037637  1.89645557]\n"
     ]
    }
   ],
   "source": [
    "beta = np.zeros((3,))\n",
    "tstar = np.zeros((10000,3))\n",
    "for isim in range(10000):\n",
    "    sample =  np.random.randint(low=0,high=1388,size=(1388,))\n",
    "    xxdata = xdata[sample]\n",
    "    yydata = xxdata.dot(beta)+resid[sample]\n",
    "    model = smf.OLS(yydata,xxdata).fit()\n",
    "    tstar[isim,:] = model.tvalues\n",
    "tstar[:,0].sort()\n",
    "tstar[:,1].sort()\n",
    "tstar[:,2].sort()\n",
    "print(tstar[int(10000*0.025)])\n",
    "print(tstar[int(10000*0.975)])"
   ]
  },
  {
   "cell_type": "code",
   "execution_count": 113,
   "metadata": {},
   "outputs": [
    {
     "name": "stdout",
     "output_type": "stream",
     "text": [
      "[-1.9272547  -1.89883774 -1.90314497]\n",
      "[ 1.9493734   1.86575141  1.9077566 ]\n"
     ]
    }
   ],
   "source": []
  }
 ],
 "metadata": {
  "kernelspec": {
   "display_name": "Python 3",
   "language": "python",
   "name": "python3"
  },
  "language_info": {
   "codemirror_mode": {
    "name": "ipython",
    "version": 3
   },
   "file_extension": ".py",
   "mimetype": "text/x-python",
   "name": "python",
   "nbconvert_exporter": "python",
   "pygments_lexer": "ipython3",
   "version": "3.6.5"
  }
 },
 "nbformat": 4,
 "nbformat_minor": 2
}

{
 "cells": [
  {
   "cell_type": "markdown",
   "metadata": {},
   "source": [
    "## r = 0"
   ]
  },
  {
   "cell_type": "code",
   "execution_count": 121,
   "metadata": {},
   "outputs": [],
   "source": [
    "xZero = np.random.normal(0, 1, (20, 10))\n",
    "x = xZero \n",
    "y = np.cumsum(x, axis = 1 )\n",
    "xdata = np.diff(y).T\n"
   ]
  },
  {
   "cell_type": "code",
   "execution_count": 122,
   "metadata": {},
   "outputs": [],
   "source": [
    "xdata = np.diff(y)\n",
    "xdata = xdata-xdata.mean(0)\n",
    "xdata = xdata/xdata.std(0)\n",
    "vcov = xdata.T.dot(xdata)/n\n",
    "(vals,vecs) = np.linalg.eigh(vcov)\n",
    "vals = np.flip(vals,0)\n",
    "vecs = np.fliplr(vecs)"
   ]
  },
  {
   "cell_type": "code",
   "execution_count": 123,
   "metadata": {},
   "outputs": [],
   "source": [
    "vtot = vals.sum()-vals.cumsum()\n",
    "vtot = np.insert(vtot,0,vals.sum())\n",
    "vals = np.insert(vals,0,vtot[0]/np.log(xdata.shape[1]))"
   ]
  },
  {
   "cell_type": "code",
   "execution_count": 124,
   "metadata": {},
   "outputs": [
    {
     "data": {
      "image/png": "[encoded data removed]",
      "text/plain": [
       "<Figure size 432x288 with 1 Axes>"
      ]
     },
     "metadata": {},
     "output_type": "display_data"
    }
   ],
   "source": [
    "fig = plt.figure()\n",
    "plt.plot(np.arange(xdata.shape[1]+1),vtot)\n",
    "plt.show()"
   ]
  },
  {
   "cell_type": "code",
   "execution_count": 125,
   "metadata": {},
   "outputs": [
    {
     "data": {
      "text/plain": [
       "[0, 8]"
      ]
     },
     "execution_count": 125,
     "metadata": {},
     "output_type": "execute_result"
    }
   ],
   "source": [
    "eratio = vals[:-1]/(vals[1:]+0.01)\n",
    "grate = np.log(1+vals/(vtot+0.01))\n",
    "gratio = grate[:-1]/(grate[1:] + 0.01)\n",
    "[eratio.argmax(),gratio.argmax()]"
   ]
  },
  {
   "cell_type": "markdown",
   "metadata": {},
   "source": [
    "## r = 1"
   ]
  },
  {
   "cell_type": "code",
   "execution_count": 683,
   "metadata": {},
   "outputs": [],
   "source": [
    "xZero = np.random.normal(0, 0.1, (200, 10))\n",
    "F = np.random.normal(0, 10, (1,10))\n",
    "lambdai = np.random.normal(1, 5, (1, 200))\n",
    "x = xZero + lambdai.T.dot(F)\n",
    "y = np.cumsum(x, axis = 1 )\n",
    "xdata = y.T\n"
   ]
  },
  {
   "cell_type": "code",
   "execution_count": 684,
   "metadata": {},
   "outputs": [],
   "source": [
    "xdata = xdata-xdata.mean(0)\n",
    "xdata = xdata/xdata.std(0)\n",
    "vcov = xdata.T.dot(xdata)/n\n",
    "(vals,vecs) = np.linalg.eigh(vcov)\n",
    "vals = np.flip(vals,0)\n",
    "vecs = np.fliplr(vecs)"
   ]
  },
  {
   "cell_type": "code",
   "execution_count": 685,
   "metadata": {},
   "outputs": [],
   "source": [
    "vtot = vals.sum()-vals.cumsum()\n",
    "vtot = np.insert(vtot,0,vals.sum())\n",
    "vals = np.insert(vals,0,vtot[0]/np.log(xdata.shape[1]))"
   ]
  },
  {
   "cell_type": "code",
   "execution_count": 686,
   "metadata": {},
   "outputs": [
    {
     "data": {
      "image/png": "[encoded data removed]",
      "text/plain": [
       "<Figure size 432x288 with 1 Axes>"
      ]
     },
     "metadata": {},
     "output_type": "display_data"
    }
   ],
   "source": [
    "fig = plt.figure()\n",
    "plt.plot(np.arange(xdata.shape[1]+1),vtot)\n",
    "plt.show()"
   ]
  },
  {
   "cell_type": "code",
   "execution_count": 687,
   "metadata": {},
   "outputs": [
    {
     "data": {
      "text/plain": [
       "[1, 1]"
      ]
     },
     "execution_count": 687,
     "metadata": {},
     "output_type": "execute_result"
    }
   ],
   "source": [
    "eratio = vals[:-1]/(vals[1:]+0.01)\n",
    "grate = np.log(1+vals/(vtot+0.01))\n",
    "gratio = grate[:-1]/(grate[1:] + 0.01)\n",
    "[eratio.argmax(),gratio.argmax()]"
   ]
  },
  {
   "cell_type": "code",
   "execution_count": 688,
   "metadata": {},
   "outputs": [],
   "source": [
    "pc = vecs[:,:1]\n",
    "\n",
    "factors = np.linalg.inv(pc.T.dot(pc)).dot(pc.T.dot(xdata.T))\n"
   ]
  },
  {
   "cell_type": "code",
   "execution_count": 689,
   "metadata": {
    "scrolled": true
   },
   "outputs": [
    {
     "data": {
      "text/plain": [
       "(array([[ -3.88714625,  -6.90639108,   8.1222065 ,  -7.37177641,\n",
       "           5.24868166,   5.07939543,  -5.8064875 ,  14.30527835,\n",
       "          10.14736315, -10.21161168]]),\n",
       " array([[ -5.94328225, -16.84893292,  -4.05479563, -15.66157564,\n",
       "          -7.39516736,   0.60324482,  -8.58337391,  13.97739715,\n",
       "          30.00484383,  13.9016419 ]]))"
      ]
     },
     "execution_count": 689,
     "metadata": {},
     "output_type": "execute_result"
    }
   ],
   "source": [
    "F, factors"
   ]
  },
  {
   "cell_type": "markdown",
   "metadata": {},
   "source": [
    "## r = 3"
   ]
  },
  {
   "cell_type": "code",
   "execution_count": 611,
   "metadata": {},
   "outputs": [
    {
     "data": {
      "text/plain": [
       "(8, 200)"
      ]
     },
     "execution_count": 611,
     "metadata": {},
     "output_type": "execute_result"
    }
   ],
   "source": [
    "xZero = np.random.normal(0, 0.1, (200, 8))\n",
    "F = np.random.normal(0, 10, (3,8))\n",
    "lambdai = np.random.normal(1, 1, (3, 200))\n",
    "x = xZero + lambdai.T.dot(F)\n",
    "y = np.cumsum(x, axis = 1 )\n",
    "xdata = y.T\n",
    "xdata.shape"
   ]
  },
  {
   "cell_type": "code",
   "execution_count": 612,
   "metadata": {},
   "outputs": [],
   "source": [
    "xdata = xdata-xdata.mean(0)\n",
    "xdata = xdata/xdata.std(0)\n",
    "vcov = xdata.T.dot(xdata)/n\n",
    "(vals,vecs) = np.linalg.eigh(vcov)\n",
    "vals = np.flip(vals,0)\n",
    "vecs = np.fliplr(vecs)"
   ]
  },
  {
   "cell_type": "code",
   "execution_count": 613,
   "metadata": {},
   "outputs": [],
   "source": [
    "vtot = vals.sum()-vals.cumsum()\n",
    "vtot = np.insert(vtot,0,vals.sum())\n",
    "vals = np.insert(vals,0,vtot[0]/np.log(xdata.shape[1]))"
   ]
  },
  {
   "cell_type": "code",
   "execution_count": 614,
   "metadata": {},
   "outputs": [
    {
     "data": {
      "image/png": "[encoded data removed]",
      "text/plain": [
       "<Figure size 432x288 with 1 Axes>"
      ]
     },
     "metadata": {},
     "output_type": "display_data"
    }
   ],
   "source": [
    "fig = plt.figure()\n",
    "plt.plot(np.arange(xdata.shape[1]+1),vtot)\n",
    "plt.show()"
   ]
  },
  {
   "cell_type": "code",
   "execution_count": 615,
   "metadata": {},
   "outputs": [
    {
     "data": {
      "text/plain": [
       "[3, 3]"
      ]
     },
     "execution_count": 615,
     "metadata": {},
     "output_type": "execute_result"
    }
   ],
   "source": [
    "eratio = vals[:-1]/(vals[1:]+0.01)\n",
    "grate = np.log(1+vals/(vtot+0.01))\n",
    "gratio = grate[:-1]/(grate[1:] + 0.01)\n",
    "[eratio.argmax(),gratio.argmax()]"
   ]
  },
  {
   "cell_type": "code",
   "execution_count": 616,
   "metadata": {},
   "outputs": [
    {
     "data": {
      "text/plain": [
       "array([[-8.08484960e-02,  2.78668778e-02,  5.25826800e-03],\n",
       "       [-6.37872746e-02, -9.48081079e-02,  4.95140609e-02],\n",
       "       [-5.30469722e-02, -1.16930030e-01,  4.13265834e-02],\n",
       "       [-5.83759173e-02, -1.05115404e-01, -6.03663111e-02],\n",
       "       [-7.38335787e-02, -6.73349227e-02,  2.28942468e-02],\n",
       "       [-7.99082492e-02,  1.10824859e-02, -6.83950153e-02],\n",
       "       [-8.08528219e-02,  1.40463194e-02,  4.76677147e-02],\n",
       "       [-4.75726392e-02,  1.24222849e-01,  5.03955649e-02],\n",
       "       [-7.66093901e-02,  4.56770684e-02,  6.50422054e-02],\n",
       "       [-8.09338538e-02, -1.87577987e-02,  3.85757345e-02],\n",
       "       [ 1.84685259e-02, -1.50680949e-01, -3.18814122e-02],\n",
       "       [-6.97186199e-02, -2.37051923e-02,  1.55588939e-01],\n",
       "       [-7.66567246e-02,  3.34719613e-02,  8.88204150e-02],\n",
       "       [-7.60515063e-02,  2.59201937e-02,  1.04507977e-01],\n",
       "       [-3.12552421e-02, -1.04540938e-01, -1.94894521e-01],\n",
       "       [-7.21494202e-02, -5.33266529e-02, -1.02600709e-01],\n",
       "       [-6.61440603e-02, -8.69656311e-02,  6.11101469e-02],\n",
       "       [ 4.29412213e-02,  5.89301615e-02,  2.34344858e-01],\n",
       "       [-8.20126280e-02,  7.48404029e-03, -1.37897399e-02],\n",
       "       [-7.70605395e-02,  3.65973708e-02,  7.85620623e-02],\n",
       "       [-6.89111432e-02,  7.37867895e-02,  8.22877499e-02],\n",
       "       [-7.46672265e-02,  6.29452009e-02,  3.20172646e-02],\n",
       "       [-5.11165891e-02, -1.20035094e-01,  4.05917000e-02],\n",
       "       [-8.05165409e-02,  1.73816739e-02, -5.11876917e-02],\n",
       "       [-8.17203059e-02,  3.02748386e-03, -3.22386899e-02],\n",
       "       [-8.11342014e-02,  1.77746481e-02,  3.42827975e-02],\n",
       "       [-8.15421566e-02, -8.77018724e-03,  3.43641450e-02],\n",
       "       [-8.04136962e-02, -2.98422194e-02,  2.36878621e-02],\n",
       "       [-7.63249222e-02, -5.54315077e-02, -3.16028983e-02],\n",
       "       [-7.72941349e-02, -4.23537542e-02, -6.24570882e-02],\n",
       "       [-6.44919096e-02,  4.62727010e-02, -1.66846521e-01],\n",
       "       [-3.75342840e-02,  1.35173336e-01, -5.82166205e-02],\n",
       "       [ 1.14819742e-02, -1.49574194e-01,  7.22866546e-02],\n",
       "       [-6.77045111e-02, -8.63960603e-02,  3.47635583e-02],\n",
       "       [-8.15859588e-02, -1.76090921e-02,  1.31919445e-02],\n",
       "       [-6.59405983e-02,  9.24986292e-02, -1.56327737e-02],\n",
       "       [-7.85648318e-02, -3.00430313e-02, -6.78950070e-02],\n",
       "       [-7.45540063e-02, -3.94561283e-02,  1.03057555e-01],\n",
       "       [-8.10665508e-02,  1.70440297e-02,  3.77771051e-02],\n",
       "       [-7.03158513e-02,  8.04876091e-02,  4.83582208e-03],\n",
       "       [-7.68900792e-02, -4.19938703e-02,  6.99075991e-02],\n",
       "       [-8.07218659e-02, -2.80487882e-02, -1.65273461e-02],\n",
       "       [-8.08159501e-02,  8.21043955e-03,  5.34857322e-02],\n",
       "       [-2.86537336e-02, -1.40916286e-01,  7.35520510e-02],\n",
       "       [-8.08267129e-02,  1.59304609e-02,  4.59476812e-02],\n",
       "       [-7.29787622e-02,  7.14366234e-02,  7.61613271e-03],\n",
       "       [-8.16186494e-02,  1.79122392e-02, -7.60406235e-03],\n",
       "       [ 2.56346218e-02,  1.04948211e-01, -2.05187873e-01],\n",
       "       [-8.12416409e-02, -5.01992540e-03,  4.54260141e-02],\n",
       "       [-7.93416505e-02,  3.76675656e-02,  2.98522304e-02],\n",
       "       [-8.12260649e-02, -2.34816961e-02,  7.15743579e-03],\n",
       "       [-7.60013848e-02,  5.38821962e-02, -4.84125913e-02],\n",
       "       [-7.18414792e-02,  6.57499156e-02, -7.34092285e-02],\n",
       "       [-7.80078398e-02,  1.60164637e-02,  9.13187244e-02],\n",
       "       [-7.95451948e-02,  3.33339306e-02,  4.04770610e-02],\n",
       "       [-7.81504459e-02,  4.58877742e-02, -2.88562151e-02],\n",
       "       [-7.05324967e-02,  7.15184770e-02,  7.00278046e-02],\n",
       "       [ 2.88352080e-02, -1.27372731e-01,  1.39299569e-01],\n",
       "       [-6.30171705e-02, -9.22729294e-02, -7.52322308e-02],\n",
       "       [-7.33988977e-02, -3.86084378e-02,  1.15149996e-01],\n",
       "       [-7.25187956e-02, -7.13239385e-02,  3.24514051e-02],\n",
       "       [-8.07202940e-02,  2.26501182e-02, -3.66306788e-02],\n",
       "       [-7.40264173e-02,  5.82848234e-02,  6.74637256e-02],\n",
       "       [-5.50976173e-02, -1.11427161e-01, -5.92218920e-02],\n",
       "       [-7.98701288e-02,  3.52257957e-02,  2.02956933e-02],\n",
       "       [-5.57498027e-02, -1.13415348e-01,  2.76142081e-02],\n",
       "       [-6.53814425e-02,  9.37067143e-02,  1.98076382e-02],\n",
       "       [-7.82660214e-02,  4.74824175e-02,  1.11329172e-03],\n",
       "       [-6.54889885e-02,  9.08217881e-02,  4.76220061e-02],\n",
       "       [-6.31296606e-02, -9.72717279e-02, -4.21187992e-02],\n",
       "       [-7.71001774e-02, -5.37937573e-02,  6.13084067e-03],\n",
       "       [-7.50618315e-02, -6.13680990e-02, -3.10481784e-02],\n",
       "       [ 3.77510162e-03, -5.51361744e-02,  2.86524996e-01],\n",
       "       [-8.18028294e-02,  9.04623184e-03, -2.38382413e-02],\n",
       "       [-7.38394603e-02, -6.59187560e-02, -3.53058694e-02],\n",
       "       [-6.83008197e-02,  8.45123186e-02,  3.63947914e-02],\n",
       "       [-7.58716715e-02, -5.97092767e-02, -6.58828817e-03],\n",
       "       [-7.45794195e-02,  6.53630453e-02,  6.79039887e-04],\n",
       "       [-7.74800067e-02,  5.14160739e-02, -1.38953122e-02],\n",
       "       [-8.16280357e-02, -1.25204128e-02, -2.59779823e-02],\n",
       "       [-4.92360113e-02, -1.21594006e-01, -5.30191209e-02],\n",
       "       [-8.09215560e-02,  1.13043236e-02, -4.88645269e-02],\n",
       "       [-8.04851431e-02, -3.09722789e-02, -1.15513553e-02],\n",
       "       [-7.79461445e-02, -4.88766811e-02,  1.32190859e-02],\n",
       "       [-8.12073246e-02,  5.86204907e-03,  4.58865917e-02],\n",
       "       [-7.72802177e-02,  3.51207676e-02,  7.81763297e-02],\n",
       "       [-7.65031088e-02,  5.09690962e-02, -4.96676335e-02],\n",
       "       [-8.12233393e-02, -1.85685921e-02, -2.93472885e-02],\n",
       "       [-7.83455242e-02, -3.27845886e-02, -6.64729750e-02],\n",
       "       [-8.10682234e-02, -2.48513230e-02, -1.22027113e-02],\n",
       "       [-7.12587890e-02, -7.19409929e-02, -5.68606623e-02],\n",
       "       [-1.35093767e-02,  2.78591118e-02, -2.97589816e-01],\n",
       "       [-1.07443613e-02, -1.49256982e-01, -7.63063518e-02],\n",
       "       [-7.24324004e-02, -5.13256329e-02,  1.03789446e-01],\n",
       "       [-7.61716434e-02, -1.79253728e-02, -1.09688445e-01],\n",
       "       [-8.01168346e-02,  3.47175165e-02, -1.57512298e-04],\n",
       "       [-8.16344331e-02, -6.28341431e-03,  3.34178817e-02],\n",
       "       [ 1.98804008e-02, -1.49703170e-01,  3.74829601e-02],\n",
       "       [-6.96831290e-02,  8.16133955e-02,  2.34032641e-02],\n",
       "       [ 2.76193252e-02, -1.45654367e-01, -3.06070601e-02],\n",
       "       [-6.99308530e-02, -7.30454920e-02,  7.22634310e-02],\n",
       "       [-6.50253651e-02,  8.99637327e-02,  6.09477525e-02],\n",
       "       [-8.16127279e-02, -4.94181030e-03, -3.49972017e-02],\n",
       "       [-7.66181131e-02,  5.59775494e-02, -1.17233000e-02],\n",
       "       [ 3.82943765e-05, -1.43861470e-01,  1.16555952e-01],\n",
       "       [-8.12965339e-02,  4.08527970e-03,  4.44144768e-02],\n",
       "       [-8.14854066e-02,  5.03352884e-03, -3.88617846e-02],\n",
       "       [-7.77160947e-02,  4.77899117e-02, -3.29017389e-02],\n",
       "       [-8.21652862e-02,  2.40317469e-03,  6.03078341e-03],\n",
       "       [-2.70950471e-02, -1.45720557e-01,  3.55130667e-02],\n",
       "       [-8.04782440e-02, -3.14270617e-02,  6.19909020e-03],\n",
       "       [-7.48213894e-02,  6.22169168e-02,  3.25272685e-02],\n",
       "       [-3.83461371e-02, -1.37480301e-01,  9.17715857e-03],\n",
       "       [-8.13577391e-02, -5.36303258e-03, -4.22723330e-02],\n",
       "       [-7.31056102e-02, -6.07476122e-02, -7.27895593e-02],\n",
       "       [-7.92136969e-02, -8.06856431e-03,  8.02641418e-02],\n",
       "       [-8.21564712e-02, -3.83477706e-03, -4.66937688e-03],\n",
       "       [-7.78134745e-02,  4.19351596e-02, -5.39982398e-02],\n",
       "       [-7.59709884e-02, -5.62773376e-02,  3.71786424e-02],\n",
       "       [-5.85473666e-02,  1.04838276e-01, -5.99359068e-02],\n",
       "       [-3.58062940e-02, -1.36597191e-01, -6.04139709e-02],\n",
       "       [-7.70083764e-02,  5.35192693e-02,  1.86956830e-02],\n",
       "       [-6.30781008e-02,  2.69255113e-02, -1.89377108e-01],\n",
       "       [-7.99386210e-02,  3.11556123e-03,  7.10635981e-02],\n",
       "       [-6.86308665e-02, -1.20853800e-02, -1.67110695e-01],\n",
       "       [-7.92069324e-02, -4.02812975e-02, -1.99082043e-02],\n",
       "       [-6.55676238e-02, -8.90603314e-02, -5.79410572e-02],\n",
       "       [-7.05371559e-02,  7.75790032e-02,  3.71290641e-02],\n",
       "       [-7.92623434e-02,  3.86602109e-02,  2.77802433e-02],\n",
       "       [-8.21839604e-02,  1.99185723e-04,  3.99216072e-03],\n",
       "       [-7.81044163e-02, -3.99742662e-02,  5.39337666e-02],\n",
       "       [-6.31129250e-02,  5.90046464e-02, -1.58354718e-01],\n",
       "       [-7.97717005e-02, -3.74145293e-02, -3.46773252e-03],\n",
       "       [-3.55015632e-02, -1.39023985e-01,  3.67427501e-02],\n",
       "       [-8.19468706e-02,  1.01109719e-02,  1.26665902e-02],\n",
       "       [-7.74952815e-02, -5.05907843e-02,  2.20865195e-02],\n",
       "       [ 4.64692452e-02, -1.22838075e-01,  7.29194053e-02],\n",
       "       [-8.13433150e-02, -1.67783383e-02, -2.88921646e-02],\n",
       "       [ 2.50332402e-02,  1.47643967e-01,  2.37101929e-02],\n",
       "       [-7.96518859e-02,  3.81127673e-02,  8.53155006e-03],\n",
       "       [-6.04115840e-02, -1.04804598e-01, -2.29863688e-02],\n",
       "       [-7.39775851e-02, -5.98565111e-02, -6.26839436e-02],\n",
       "       [-7.85142176e-02, -3.70860089e-02,  5.36664461e-02],\n",
       "       [ 2.43255119e-02, -1.14989261e-01,  1.85529235e-01],\n",
       "       [-7.82298890e-02, -3.14650611e-02,  7.07183904e-02],\n",
       "       [-8.18683666e-02, -4.36100455e-03, -2.57566865e-02],\n",
       "       [-7.64367575e-02,  1.75851340e-02,  1.07304561e-01],\n",
       "       [ 1.27316888e-02, -1.52854802e-01, -3.07029582e-02],\n",
       "       [-8.19858538e-02, -1.75673089e-03,  2.13847437e-02],\n",
       "       [-7.81201999e-02, -4.83274542e-02,  1.92676161e-03],\n",
       "       [-7.82605483e-02,  3.55388291e-02,  6.22256655e-02],\n",
       "       [-7.78211883e-02,  4.46028867e-02, -4.47219993e-02],\n",
       "       [-7.28744064e-02,  7.16146670e-02,  1.29994849e-02],\n",
       "       [-6.58510878e-02, -9.22221801e-02,  2.46469922e-02],\n",
       "       [-7.35515413e-02, -4.46039441e-02, -1.04907893e-01],\n",
       "       [-8.17196286e-02,  1.12992710e-02, -2.40771936e-02],\n",
       "       [-3.09902753e-02, -1.33770383e-01, -1.05388340e-01],\n",
       "       [-7.97763751e-02, -3.55831551e-02, -2.28457523e-02],\n",
       "       [-7.22466245e-02, -5.17228189e-02,  1.04822346e-01],\n",
       "       [-8.10132744e-02, -2.41012418e-02, -2.04361293e-02],\n",
       "       [-7.61152001e-02, -5.85967345e-02,  6.29436555e-03],\n",
       "       [-7.61279362e-02,  5.85579568e-02, -5.52665291e-03],\n",
       "       [-6.51271344e-02,  9.48714583e-02, -1.39888877e-05],\n",
       "       [-7.39531500e-02, -6.08077871e-02, -5.94408618e-02],\n",
       "       [-7.79316990e-02,  3.68758923e-02,  6.48913031e-02],\n",
       "       [-7.29389154e-02,  6.67739533e-02,  5.14468401e-02],\n",
       "       [-8.05164938e-02,  3.08449026e-02, -9.67528896e-03],\n",
       "       [-6.77706407e-02,  8.69897345e-02,  2.61358207e-02],\n",
       "       [-7.97311901e-02,  3.35155739e-02,  3.43277980e-02],\n",
       "       [-7.96977490e-02,  2.67773702e-02, -5.32322059e-02],\n",
       "       [ 7.22999587e-02, -6.38806501e-02, -7.35369059e-02],\n",
       "       [-8.21886504e-02,  8.10750263e-04, -1.62979007e-03],\n",
       "       [-8.19489212e-02, -3.39932041e-03,  2.25441375e-02],\n",
       "       [-7.84226359e-02,  1.74549826e-02, -8.49976050e-02],\n",
       "       [-7.77738248e-02,  5.02956803e-02,  1.02378361e-03],\n",
       "       [-6.49031700e-02,  9.53753301e-02, -5.72862507e-03],\n",
       "       [-7.97874936e-02,  3.70413143e-02,  9.22860445e-03],\n",
       "       [-7.31331514e-02,  7.09723469e-02,  1.05066327e-03],\n",
       "       [-7.01098666e-02, -4.41351209e-02, -1.34373608e-01],\n",
       "       [-7.75561792e-02, -4.09815916e-02,  6.14856861e-02],\n",
       "       [-8.09704445e-02,  2.62587344e-02,  9.55162608e-03],\n",
       "       [-7.47868068e-02, -6.44374833e-02, -6.02928274e-03],\n",
       "       [-7.71049443e-02,  5.06903691e-02, -3.59082001e-02],\n",
       "       [-4.95458167e-02, -1.24026914e-01, -7.71105252e-03],\n",
       "       [-5.62932134e-02, -1.13068211e-01, -1.48394169e-02],\n",
       "       [-8.21049588e-02,  5.33507781e-03,  9.24564914e-03],\n",
       "       [-7.91172953e-02, -2.30221112e-02, -6.95432680e-02],\n",
       "       [-5.79081761e-02, -1.09520750e-01,  2.68948650e-02],\n",
       "       [-6.79594058e-02,  8.70238044e-02, -1.74087369e-02],\n",
       "       [-6.28675076e-02, -9.77899607e-02,  4.29040578e-02],\n",
       "       [-7.02060799e-02,  7.89703467e-02,  3.43541414e-02],\n",
       "       [-8.20673923e-02, -1.65254544e-03, -1.64968115e-02],\n",
       "       [-7.82004297e-02,  4.76389262e-02,  9.29707722e-03],\n",
       "       [-6.72741674e-02, -7.98425391e-02, -7.91043599e-02],\n",
       "       [-8.05706309e-02,  2.91894850e-02,  1.89486147e-02],\n",
       "       [-1.57396458e-02, -1.38657949e-01, -1.25905465e-01],\n",
       "       [-8.19013763e-02,  1.30224932e-02,  1.42171879e-03],\n",
       "       [ 2.08993238e-03, -1.55234122e-01, -1.69615746e-02],\n",
       "       [-6.35543661e-02,  9.09955986e-02,  7.49890365e-02],\n",
       "       [-6.98890215e-02,  5.98522700e-02, -1.10121805e-01]])"
      ]
     },
     "execution_count": 616,
     "metadata": {},
     "output_type": "execute_result"
    }
   ],
   "source": [
    "pcs = vecs[:,:3]\n",
    "factors = xdata.dot(pcs)\n",
    "pcs"
   ]
  },
  {
   "cell_type": "code",
   "execution_count": 617,
   "metadata": {},
   "outputs": [],
   "source": [
    "pc = vecs[:,:3]\n",
    "\n",
    "factors = np.linalg.inv(pc.T.dot(pc)).dot(pc.T.dot(xdata.T))\n"
   ]
  },
  {
   "cell_type": "code",
   "execution_count": 618,
   "metadata": {
    "scrolled": true
   },
   "outputs": [
    {
     "data": {
      "text/plain": [
       "(array([[-12.83504373, -16.18617314, -19.84532389, -15.92905725,\n",
       "          -2.56160202,   5.09154647,   6.54451685,   3.74972753],\n",
       "        [  4.90185711,  -2.92021859,  -3.24631397,   4.11849035,\n",
       "          -5.59174326,  17.70296115,   5.79818091,   5.62030482],\n",
       "        [ -0.37968383,   7.86677998, -17.11959014,  -4.1020668 ,\n",
       "          -8.90212732,  -0.14815358,  16.98535311,   1.26548068]]),\n",
       " array([[-18.26528693, -13.25525601,   4.4096567 ,  11.45754264,\n",
       "          18.89350277,   9.01655728,  -3.80192871,  -8.45478775],\n",
       "        [  7.76137514,   4.71080058,   5.28954607,   0.5973455 ,\n",
       "           4.51084646,  -3.76172277,  -8.34458599, -10.76360499],\n",
       "        [ -4.75615305,   4.80144193,   1.37343728,   2.80800637,\n",
       "          -0.45928461,  -5.22444179,   1.42818635,   0.02880751]]))"
      ]
     },
     "execution_count": 618,
     "metadata": {},
     "output_type": "execute_result"
    }
   ],
   "source": [
    "F, factors"
   ]
  },
  {
   "cell_type": "markdown",
   "metadata": {},
   "source": [
    "## Answer:\n",
    "\n",
    "$\\sigma_F >> \\sigma_\\lambda >> \\sigma$\n"
   ]
  },
  {
   "cell_type": "code",
   "execution_count": null,
   "metadata": {},
   "outputs": [],
   "source": []
  }
 ],
 "metadata": {
  "kernelspec": {
   "display_name": "Python 3",
   "language": "python",
   "name": "python3"
  },
  "language_info": {
   "codemirror_mode": {
    "name": "ipython",
    "version": 3
   },
   "file_extension": ".py",
   "mimetype": "text/x-python",
   "name": "python",
   "nbconvert_exporter": "python",
   "pygments_lexer": "ipython3",
   "version": "3.6.5"
  }
 },
 "nbformat": 4,
 "nbformat_minor": 2
}

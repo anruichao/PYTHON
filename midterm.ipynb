{
 "cells": [
  {
   "cell_type": "code",
   "execution_count": 24,
   "metadata": {},
   "outputs": [],
   "source": [
    "import numpy as np\n",
    "import scipy as sp\n",
    "import scipy.stats as sps\n",
    "from scipy.stats import norm\n",
    "import pandas as pd\n",
    "import matplotlib as mpl\n",
    "import matplotlib.pyplot as plt"
   ]
  },
  {
   "cell_type": "code",
   "execution_count": 27,
   "metadata": {},
   "outputs": [],
   "source": [
    "def cross(*args):  # Can put either 1 or 2 things into this function\n",
    "    x = args[0]\n",
    "    if len(args)==1:\n",
    "        y = x\n",
    "    else:\n",
    "        y = args[1]\n",
    "    return(x.T.dot(y))\n",
    "ls = lambda X,y: np.linalg.solve(cross(X),cross(X,y))\n",
    "class ols:\n",
    "    def __init__(self,X,y):\n",
    "        self.n = X.shape[0]\n",
    "        self.r = X.shape[1]\n",
    "        self.X = np.hstack((np.ones((self.n,1)),X))\n",
    "        self.y = y\n",
    "        self.b = ls(self.X,self.y)\n",
    "        self.pred = self.X.dot(self.b)\n",
    "        self.res = self.y-self.pred\n",
    "        RSS = cross(self.res)[0,0]\n",
    "        ybar = self.y.mean()\n",
    "        e_0 = self.y-ybar\n",
    "        TSS = cross(e_0)[0,0]\n",
    "        self.rsq = 1-RSS/TSS\n",
    "        sig = np.sqrt(RSS/self.n)\n",
    "        self.vcov = np.linalg.inv(cross(self.X))*(sig**2)\n",
    "        self.loglike = -self.n/2*np.log(2*np.pi*sig**2)-self.n/2\n",
    "        self.aic = 2*self.r-2*self.loglike\n",
    "        self.bic = np.log(self.n)*self.r-2*self.loglike\n",
    "    def predict(self,newX):\n",
    "        newn = newX.shape[0]\n",
    "        newX = np.hstack((np.ones((newn,1)),newX))\n",
    "        return newX.dot(self.b)\n",
    "    def tidy(self):\n",
    "        se = np.sqrt(np.diag(self.vcov)).reshape(-1,1)\n",
    "        tstats = self.b/se\n",
    "        pval = norm.cdf(-np.abs(tstats))*2\n",
    "        outp = np.hstack((self.b,se,tstats,pval))\n",
    "        outp = pd.DataFrame(outp)\n",
    "        outp.columns = ['beta','stderr','tstat','pval']\n",
    "        print(outp)\n",
    "        print(\"RSq=\"+str(self.rsq)) \n",
    "        print(\"AIC=\"+str(self.aic))\n",
    "        print(\"BIC=\"+str(self.bic))"
   ]
  },
  {
   "cell_type": "code",
   "execution_count": 26,
   "metadata": {},
   "outputs": [],
   "source": [
    "class quat:\n",
    "    def __init__(self,*args):\n",
    "        if len(args)==4:\n",
    "            self.a = args[0]\n",
    "            self.b = args[1]\n",
    "            self.c = args[2]\n",
    "            self.d = args[3]\n",
    "        elif len(args) == 1:\n",
    "            self.a = args[0]\n",
    "            self.b = 0\n",
    "            self.c = 0\n",
    "            self.d = 0\n",
    "        else:\n",
    "            raise ValueError('Wrong number of inputs to constructor.')\n",
    "    def __str__(self):\n",
    "        return str(self.a)+\"+\"+str(self.b)+\"i+\"+str(self.c)+\"j+\"+str(self.d)+\"k\"\n",
    "    def __add__(self,other):\n",
    "        if type(other) == quat:\n",
    "            return quat(self.a+other.a,self.b+other.b,self.c+other.c,self.d+other.d)\n",
    "        else:\n",
    "            return self+quat(other)\n",
    "    def __mul__(self,other):\n",
    "        if type(other) == quat:\n",
    "            return quat(self.a*other.a-self.b*other.b-self.c*other.c-self.d*other.d,\\\n",
    "                        self.a*other.b+self.b*other.a+self.c*other.d-self.d*other.c,\\\n",
    "                        self.a*other.c+self.c*other.a-self.b*other.d+self.d*other.b,\\\n",
    "                        self.a*other.d+self.d*other.a+self.b*other.c-self.c*other.b)\n",
    "        else:\n",
    "            return quat(other*self.a,other*self.b,other*self.c,other*self.d)\n",
    "    def __rmul__(self,other):\n",
    "        if type(other) == quat:\n",
    "            return other.__mul__(self)\n",
    "        else:\n",
    "            return quat(other*self.a,other*self.b,other*self.c,other*self.d)\n",
    "    def __sub__(self,other):\n",
    "        if type(other) == quat:\n",
    "            return quat(self.a-other.a,self.b-other.b,self.c-other.c,self.d-other.d)\n",
    "        else:\n",
    "            return self-quat(other)\n",
    "    def norm(self):\n",
    "        return np.sqrt(self.a**2+self.b**2+self.c**2+self.d**2)\n",
    "    def inv(self):\n",
    "        den = self.norm()**2\n",
    "        return quat(self.a/den,-self.b/den,-self.c/den,-self.d/den)"
   ]
  },
  {
   "cell_type": "code",
   "execution_count": 23,
   "metadata": {},
   "outputs": [
    {
     "name": "stdout",
     "output_type": "stream",
     "text": [
      "5+0i+0j+0k\n",
      "5+4i+0j+0k\n",
      "5+-4i+0j+0k\n",
      "10+0i+0j+0k\n",
      "0.2+0.0i+0.0j+0.0k\n",
      "0+20i+0j+0k\n",
      "5+5i+5j+5k\n"
     ]
    }
   ],
   "source": [
    "x = quat(5)\n",
    "y = quat(0,4,0,0)\n",
    "z = quat(1,1,1,1)\n",
    "print(x)\n",
    "print(x+y)\n",
    "print(x-y)\n",
    "print(2*x)\n",
    "print(x.inv())\n",
    "print(x*y)\n",
    "print(x*z)\n"
   ]
  },
  {
   "cell_type": "code",
   "execution_count": 5,
   "metadata": {},
   "outputs": [
    {
     "data": {
      "image/png": "[encoded data removed]",
      "text/plain": [
       "<Figure size 432x288 with 1 Axes>"
      ]
     },
     "metadata": {},
     "output_type": "display_data"
    }
   ],
   "source": [
    "def repr(x,lb,ub,level,shift):\n",
    "    if level >= 10: return shift\n",
    "    trng = (ub-lb)/3\n",
    "    if x < lb+trng:\n",
    "        return repr(x,lb,lb+trng,level+1,shift)\n",
    "    shift+=1/2**level\n",
    "    if x <= lb+2*trng:\n",
    "        return shift\n",
    "    return repr(x,lb+2*trng,ub,level+1,shift)\n",
    "def cdf(x):\n",
    "    return repr(x,0.0,1.0,1,0)\n",
    "\n",
    "x = np.linspace(0,1,10000)\n",
    "y = x.copy()\n",
    "for i in range(x.shape[0]):\n",
    "    y[i] = cdf(x[i])\n",
    "plt.plot(x,y)\n",
    "plt.show()"
   ]
  },
  {
   "cell_type": "code",
   "execution_count": 21,
   "metadata": {},
   "outputs": [
    {
     "data": {
      "image/png": "[encoded data removed]",
      "text/plain": [
       "<Figure size 432x288 with 1 Axes>"
      ]
     },
     "metadata": {},
     "output_type": "display_data"
    }
   ],
   "source": [
    "n = 100000\n",
    "u = np.random.uniform(size=(n,))\n",
    "cl = u.copy()\n",
    "for i in range(n):\n",
    "    item = u[i]\n",
    "    cl[i] = x[np.argmin((y-item)**2)]\n",
    "plt.hist(cl,bins=np.linspace(0,1,101))\n",
    "plt.show()"
   ]
  }
 ],
 "metadata": {
  "kernelspec": {
   "display_name": "Python 3",
   "language": "python",
   "name": "python3"
  },
  "language_info": {
   "codemirror_mode": {
    "name": "ipython",
    "version": 3
   },
   "file_extension": ".py",
   "mimetype": "text/x-python",
   "name": "python",
   "nbconvert_exporter": "python",
   "pygments_lexer": "ipython3",
   "version": "3.6.5"
  }
 },
 "nbformat": 4,
 "nbformat_minor": 2
}

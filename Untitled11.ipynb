{
 "cells": [
  {
   "cell_type": "code",
   "execution_count": 2,
   "metadata": {},
   "outputs": [
    {
     "name": "stdout",
     "output_type": "stream",
     "text": [
      "x1=-1000\n",
      "x2=1000\n",
      "Area:  2.506628274630999\n"
     ]
    }
   ],
   "source": [
    "import math\n",
    "x1 = float(input('x1='))\n",
    "x2 = float(input('x2='))\n",
    "\n",
    "if(x1 > x2):\n",
    "    a = x1\n",
    "    x1 = x2\n",
    "    x2 = a\n",
    "\n",
    "delta_x = ((x2-x1)/1000000)\n",
    "j = abs((x2-x1)/delta_x)\n",
    "i = int(j)\n",
    "n = 0\n",
    "A = .0\n",
    "x = x1\n",
    "while n < 1000000:\n",
    "    delta_a = math.e**(-x**2/2)*delta_x\n",
    "    x += delta_x\n",
    "    A += delta_a\n",
    "    n += 1\n",
    "print('Area: ', A)"
   ]
  }
 ],
 "metadata": {
  "kernelspec": {
   "display_name": "Python 3",
   "language": "python",
   "name": "python3"
  },
  "language_info": {
   "codemirror_mode": {
    "name": "ipython",
    "version": 3
   },
   "file_extension": ".py",
   "mimetype": "text/x-python",
   "name": "python",
   "nbconvert_exporter": "python",
   "pygments_lexer": "ipython3",
   "version": "3.6.5"
  }
 },
 "nbformat": 4,
 "nbformat_minor": 2
}

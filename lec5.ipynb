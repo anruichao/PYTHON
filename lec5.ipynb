{
 "cells": [
  {
   "cell_type": "code",
   "execution_count": 5,
   "metadata": {},
   "outputs": [
    {
     "name": "stdout",
     "output_type": "stream",
     "text": [
      "['faminc', 'cigtax', 'cigprice', 'bwght', 'parity', 'male', 'white', 'cigs', 'lbwght', 'bwghtlbs', 'packs', 'lfaminc']\n",
      "(0, 'faminc')\n",
      "(1, 'cigtax')\n",
      "(2, 'cigprice')\n",
      "(3, 'bwght')\n",
      "(4, 'parity')\n",
      "(5, 'male')\n",
      "(6, 'white')\n",
      "(7, 'cigs')\n",
      "(8, 'lbwght')\n",
      "(9, 'bwghtlbs')\n",
      "(10, 'packs')\n",
      "(11, 'lfaminc')\n"
     ]
    }
   ],
   "source": [
    "import csv\n",
    "import numpy as np\n",
    "import scipy.stats as sps\n",
    "from scipy.stats import norm\n",
    "from scipy.optimize import root\n",
    "import pandas as pd\n",
    "\n",
    "\n",
    "np.set_printoptions(suppress=True)\n",
    "\n",
    "file = open('bwght.csv')\n",
    "file.close()\n",
    "\n",
    "inmat = []\n",
    "with open('bwght.csv') as file:\n",
    "    ## Type what you want here and it works without closing the file\n",
    "    reader = csv.reader(file)\n",
    "    for line in reader:\n",
    "        inmat.append(line)\n",
    "\n",
    "\n",
    "inmat = [row[:4]+row[6:] for row in inmat]\n",
    "\n",
    "print(inmat[0])\n",
    "for ndx,item in enumerate(inmat[0]):\n",
    "    print(ndx,item)\n",
    "data = np.matrix(inmat[1:],dtype=float)\n"
   ]
  },
  {
   "cell_type": "code",
   "execution_count": null,
   "metadata": {},
   "outputs": [],
   "source": [
    "smokes=np.array(data[:,7]>0,dtype=int)"
   ]
  },
  {
   "cell_type": "code",
   "execution_count": 4,
   "metadata": {},
   "outputs": [
    {
     "name": "stdout",
     "output_type": "stream",
     "text": [
      "C:\\Users\\jap090020\\Dropbox\\UTDallas\\buan6340\\post\n"
     ]
    }
   ],
   "source": [
    "cd \"C:\\Users\\jap090020\\Dropbox\\UTDallas\\buan6340\\post\""
   ]
  },
  {
   "cell_type": "code",
   "execution_count": 37,
   "metadata": {},
   "outputs": [],
   "source": [
    "def cross(*args):  # Can put either 1 or 2 things into this function\n",
    "    x = args[0]\n",
    "    if len(args)==1:\n",
    "        y = x\n",
    "    else:\n",
    "        y = args[1]\n",
    "    return(x.T.dot(y))\n",
    "ls = lambda X,y: np.linalg.solve(cross(X),cross(X,y))\n",
    "class ols:\n",
    "    def __init__(self,X,y):\n",
    "        self.n = X.shape[0]\n",
    "        self.X = np.hstack((np.ones((self.n,1)),X))\n",
    "        self.y = y\n",
    "        self.b = ls(self.X,self.y)\n",
    "        self.pred = self.X.dot(self.b)\n",
    "        self.res = self.y-self.pred\n",
    "        RSS = cross(self.res)[0,0]\n",
    "        ybar = self.y.mean()\n",
    "        e_0 = self.y-ybar\n",
    "        TSS = cross(e_0)[0,0]\n",
    "        self.rsq = 1-RSS/TSS\n",
    "        sig = np.sqrt(RSS/self.n)\n",
    "        self.vcov = np.linalg.inv(cross(self.X))*(sig**2)\n",
    "    def predict(self,newX):\n",
    "        newn = newX.shape[0]\n",
    "        newX = np.hstack((np.ones((newn,1)),newX))\n",
    "        return newX.dot(self.b)\n",
    "    def tidy(self):\n",
    "        se = np.sqrt(np.diag(self.vcov)).reshape(-1,1)\n",
    "        tstats = self.b/se\n",
    "        pval = norm.cdf(-np.abs(tstats))*2\n",
    "        outp = np.hstack((self.b,se,tstats,pval))\n",
    "        outp = pd.DataFrame(outp)\n",
    "        outp.columns = ['beta','stderr','tstat','pval']\n",
    "        print(outp)\n",
    "        print(\"RSq=\"+str(self.rsq))    \n",
    "class white(ols):\n",
    "    def __init__(self,X,y):\n",
    "        ols.__init__(self,X,y)\n",
    "        vb = np.diagflat(np.power(self.res,2))\n",
    "        vb = self.X.T.dot(vb).dot(self.X)\n",
    "        vb = np.linalg.inv(cross(self.X))*vb*np.linalg.inv(cross(self.X))\n",
    "        self.vcov = vb\n",
    "def cross(*args):  # Can put either 1 or 2 things into this function\n",
    "    x = args[0]\n",
    "    if len(args)==1:\n",
    "        y = x\n",
    "    else:\n",
    "        y = args[1]\n",
    "    return(x.T.dot(y))\n",
    "class ols_nocon:\n",
    "    def __init__(self,X,y):\n",
    "        self.n = X.shape[0]\n",
    "        self.X = X\n",
    "        self.y = y\n",
    "        self.b = ls(self.X,self.y)\n",
    "        self.pred = self.X.dot(self.b)\n",
    "        self.res = self.y-self.pred\n",
    "        RSS = cross(self.res)[0,0]\n",
    "        ybar = self.y.mean()\n",
    "        e_0 = self.y-ybar\n",
    "        TSS = cross(e_0)[0,0]\n",
    "        self.rsq = 1-RSS/TSS\n",
    "        sig = np.sqrt(RSS/self.n)\n",
    "        self.vcov = np.linalg.inv(cross(self.X))*(sig**2)\n",
    "    def predict(self,newX):\n",
    "        newn = newX.shape[0]\n",
    "        newX = np.hstack((np.ones((newn,1)),newX))\n",
    "        return newX.dot(self.b)\n",
    "    def tidy(self):\n",
    "        se = np.sqrt(np.diag(self.vcov)).reshape(-1,1)\n",
    "        tstats = self.b/se\n",
    "        pval = norm.cdf(-np.abs(tstats))*2\n",
    "        outp = np.hstack((self.b,se,tstats,pval))\n",
    "        outp = pd.DataFrame(outp)\n",
    "        outp.columns = ['beta','stderr','tstat','pval']\n",
    "        print(outp)\n",
    "        print(\"RSq=\"+str(self.rsq))    "
   ]
  },
  {
   "cell_type": "code",
   "execution_count": 7,
   "metadata": {},
   "outputs": [
    {
     "name": "stdout",
     "output_type": "stream",
     "text": [
      "         beta    stderr       tstat          pval\n",
      "0  119.771900  0.571928  209.417734  0.000000e+00\n",
      "1   -0.513772  0.090426   -5.681704  1.333596e-08\n",
      "RSq=0.02272912110605263\n"
     ]
    }
   ],
   "source": [
    "y = data[:,3]\n",
    "y\n",
    "x = data[:,7]\n",
    "x\n",
    "n = len(y)\n",
    "ols(x,y).tidy()"
   ]
  },
  {
   "cell_type": "code",
   "execution_count": 8,
   "metadata": {},
   "outputs": [
    {
     "name": "stdout",
     "output_type": "stream",
     "text": [
      "         beta    stderr       tstat          pval\n",
      "0  119.771900  0.574135  208.612667  0.000000e+00\n",
      "1   -0.513772  0.087670   -5.860284  4.620768e-09\n",
      "RSq=0.02272912110605263\n"
     ]
    }
   ],
   "source": [
    "white(x,y).tidy()"
   ]
  },
  {
   "cell_type": "code",
   "execution_count": 9,
   "metadata": {},
   "outputs": [
    {
     "name": "stdout",
     "output_type": "stream",
     "text": [
      "         beta    stderr      tstat          pval\n",
      "0  112.065256  1.449067  77.336129  0.000000e+00\n",
      "1   -0.474160  0.089281  -5.310865  1.091059e-07\n",
      "2    0.060055  0.029604   2.028614  4.249763e-02\n",
      "3    3.145240  1.063350   2.957859  3.097840e-03\n",
      "4    5.407262  1.429363   3.782987  1.549572e-04\n",
      "RSq=0.046451096834047245\n"
     ]
    }
   ],
   "source": [
    "y = data[:,3]\n",
    "x = np.hstack((data[:,7],data[:,0],data[:,5],data[:,6]))\n",
    "white(x,y).tidy()"
   ]
  },
  {
   "cell_type": "code",
   "execution_count": 10,
   "metadata": {},
   "outputs": [],
   "source": [
    "bwght = pd.read_csv('bwght.csv')"
   ]
  },
  {
   "cell_type": "code",
   "execution_count": 11,
   "metadata": {},
   "outputs": [
    {
     "name": "stdout",
     "output_type": "stream",
     "text": [
      "         beta    stderr       tstat          pval\n",
      "0  119.771900  0.571928  209.417734  0.000000e+00\n",
      "1   -0.513772  0.090426   -5.681704  1.333596e-08\n",
      "RSq=0.02272912110605263\n"
     ]
    }
   ],
   "source": [
    "x = bwght['cigs'].values.reshape(-1,1)\n",
    "y = bwght['bwght'].values.reshape(-1,1)\n",
    "ols(x,y).tidy()"
   ]
  },
  {
   "cell_type": "code",
   "execution_count": 12,
   "metadata": {},
   "outputs": [
    {
     "name": "stdout",
     "output_type": "stream",
     "text": [
      "         beta    stderr       tstat          pval\n",
      "0  116.974130  1.047850  111.632526  0.000000e+00\n",
      "1   -0.463408  0.091478   -5.065792  4.067055e-07\n",
      "2    0.092765  0.029156    3.181635  1.464461e-03\n",
      "RSq=0.029804837327581435\n"
     ]
    }
   ],
   "source": [
    "x = pd.concat((bwght['cigs'],bwght['faminc']),1).values\n",
    "y = bwght['bwght'].values.reshape(-1,1)\n",
    "ols(x,y).tidy()"
   ]
  },
  {
   "cell_type": "code",
   "execution_count": 18,
   "metadata": {},
   "outputs": [
    {
     "name": "stdout",
     "output_type": "stream",
     "text": [
      "         beta    stderr       tstat          pval\n",
      "0  116.974130  1.047850  111.632526  0.000000e+00\n",
      "1   -0.463408  0.091478   -5.065792  4.067055e-07\n",
      "2    0.092765  0.029156    3.181635  1.464461e-03\n",
      "RSq=0.029804837327581435\n"
     ]
    },
    {
     "data": {
      "text/plain": [
       "402.8963171909034"
      ]
     },
     "execution_count": 18,
     "metadata": {},
     "output_type": "execute_result"
    }
   ],
   "source": [
    "def mspe(model,newX,newy):\n",
    "    n = newX.shape[0]\n",
    "    err = newy-model.predict(newX)\n",
    "    return cross(err)[0,0]/n\n",
    "def kfold(X,y,k,model=ols,stat=mspe):\n",
    "    outp = np.zeros((k,))\n",
    "    n = X.shape[0]\n",
    "    for j in range(k):\n",
    "        test = np.arange((j)*(n//k),(j+1)*(n//k))\n",
    "        trainl = np.arange(0,(j)*(n//k))\n",
    "        trainu = np.arange((j+1)*(n//k),n)\n",
    "        train=np.concatenate((trainl,trainu))\n",
    "        outp[j] = stat(model(X[train,],y[train]),X[test,],y[test])\n",
    "    return outp\n",
    "\n",
    "x = pd.concat((bwght['cigs'],bwght['faminc']),1).values\n",
    "y = bwght['bwght'].values.reshape(-1,1)\n",
    "ols(x,y).tidy()\n",
    "kfold(x,y,10,model=white).mean()"
   ]
  },
  {
   "cell_type": "code",
   "execution_count": 20,
   "metadata": {},
   "outputs": [],
   "source": [
    "bwght['smokes'] = (bwght['cigs']>0).astype(int)\n",
    "#bwght['smokes']"
   ]
  },
  {
   "cell_type": "code",
   "execution_count": 21,
   "metadata": {},
   "outputs": [],
   "source": [
    "bigF = lambda x: 1/(1+np.exp(-x))\n",
    "littleF = lambda x: np.multiply(bigF(x),(1-bigF(x)))\n",
    "class logit:\n",
    "    def __init__(self,X,y):\n",
    "        self.n = X.shape[0]\n",
    "        self.y = y\n",
    "        self.bigX = np.ones((self.n,1))\n",
    "        self.fit()\n",
    "        self.nullll = self.logL()\n",
    "        self.bigX = np.hstack((self.bigX,X))\n",
    "        self.fit()\n",
    "        self.loglike = self.logL()\n",
    "        self.rsq = 1-(self.loglike/self.nullll)\n",
    "    def logL(self):\n",
    "        val = cross(self.y,np.log(self.pred))+cross((1-self.y),np.log(1-self.pred))\n",
    "        return val[0,0]\n",
    "    def deriv(self,b):\n",
    "        diff=self.y-bigF(self.bigX.dot(b.reshape(-1,1)))\n",
    "        jac = self.bigX.T.dot(diff)\n",
    "        return np.array(jac).flatten()\n",
    "    def hess(self,b):\n",
    "        diff=-littleF(self.bigX.dot(b.reshape(-1,1)))\n",
    "        return self.bigX.T.dot(np.diagflat(diff)).dot(self.bigX)\n",
    "    def fit(self):\n",
    "        soln = root(self.deriv,x0=np.zeros((self.bigX.shape[1],)),jac=self.hess)\n",
    "        self.b = soln.x.reshape(-1,1)\n",
    "        self.vcov = np.linalg.inv(-soln.fjac)\n",
    "        self.pred = bigF(self.bigX.dot(self.b))\n",
    "    def tidy(self):\n",
    "        se = np.sqrt(np.diag(self.vcov)).reshape(-1,1)\n",
    "        tstats = self.b/se\n",
    "        pval = norm.cdf(-np.abs(tstats))*2\n",
    "        outp = np.hstack((self.b,se,tstats,pval))\n",
    "        outp = pd.DataFrame(outp)\n",
    "        outp.columns = ['beta','stderr','tstat','pval']\n",
    "        print(outp)\n",
    "        print(\"McFadden RSq=\"+str(self.rsq))\n",
    "    def predict(self,newX):\n",
    "        newn = newX.shape[0]\n",
    "        newX = np.hstack((np.ones((newn,1)),newX))\n",
    "        return bigF(newX.dot(self.b))\n"
   ]
  },
  {
   "cell_type": "code",
   "execution_count": 22,
   "metadata": {},
   "outputs": [
    {
     "name": "stdout",
     "output_type": "stream",
     "text": [
      "       beta    stderr     tstat          pval\n",
      "0 -1.116268  0.188049 -5.936043  2.919824e-09\n",
      "1 -0.036162  0.212576 -0.170115  8.649198e-01\n",
      "2  0.407269  0.930165  0.437846  6.614977e-01\n",
      "McFadden RSq=0.04797995773603969\n"
     ]
    },
    {
     "data": {
      "text/plain": [
       "0.12535597669536236"
      ]
     },
     "execution_count": 22,
     "metadata": {},
     "output_type": "execute_result"
    }
   ],
   "source": [
    "x = pd.concat((bwght['faminc'],bwght['white']),1).values\n",
    "y = bwght['smokes'].values.reshape(-1,1)\n",
    "logit(x,y).tidy()\n",
    "kfold(x,y,4,model=logit).mean()"
   ]
  },
  {
   "cell_type": "code",
   "execution_count": 23,
   "metadata": {},
   "outputs": [
    {
     "name": "stdout",
     "output_type": "stream",
     "text": [
      "         beta    stderr      tstat          pval\n",
      "0  112.065256  1.440059  77.819895  0.000000e+00\n",
      "1   -0.474160  0.090753  -5.224703  1.744349e-07\n",
      "2    0.060055  0.030392   1.976040  4.815023e-02\n",
      "3    3.145240  1.068830   2.942695  3.253687e-03\n",
      "4    5.407262  1.362849   3.967615  7.259560e-05\n",
      "RSq=0.04645109683404747\n"
     ]
    }
   ],
   "source": [
    "x = pd.concat((bwght['cigs'],bwght['faminc'],bwght['male'],bwght['white']),1).values\n",
    "y = bwght['bwght'].values.reshape(-1,1)\n",
    "ols(x,y).tidy()\n"
   ]
  },
  {
   "cell_type": "code",
   "execution_count": 33,
   "metadata": {},
   "outputs": [],
   "source": [
    "sigvec = [0.25,0.5,1,2]\n",
    "Tvec = [10,25,50,100,250]\n",
    "rvec = [1,3,5,10]\n",
    "nsim = 1000\n",
    "\n",
    "T = 100\n",
    "r = 3\n",
    "sig = 0.5\n",
    "\n",
    "outp = np.zeros((nsim,len(sigvec),len(Tvec),len(rvec)))\n",
    "\n",
    "for sigdx,sig in enumerate(sigvec):\n",
    "    for tdx,T in enumerate(Tvec):\n",
    "        for rdx,r in enumerate(rvec):\n",
    "            for isim in range(nsim):\n",
    "                x = np.random.normal(size=(T,r),scale=sig)\n",
    "                y = np.random.normal(size=(T,1),scale=sig)\n",
    "                for t in range(1,T):\n",
    "                    x[t,]+=x[t-1,]\n",
    "                    y[t]+=y[t-1]\n",
    "                outp[isim,sigdx,tdx,rdx] = ols(x,y).rsq    \n"
   ]
  },
  {
   "cell_type": "code",
   "execution_count": 35,
   "metadata": {},
   "outputs": [],
   "source": [
    "\n",
    "outp2 = np.zeros((nsim,len(sigvec),len(Tvec),len(rvec)))\n",
    "\n",
    "for sigdx,sig in enumerate(sigvec):\n",
    "    for tdx,T in enumerate(Tvec):\n",
    "        for rdx,r in enumerate(rvec):\n",
    "            for isim in range(nsim):\n",
    "                x = np.random.normal(size=(T,r),scale=sig)\n",
    "                y = np.random.normal(size=(T,1),scale=sig)\n",
    "                outp2[isim,sigdx,tdx,rdx] = ols(x,y).rsq    \n"
   ]
  },
  {
   "cell_type": "code",
   "execution_count": 34,
   "metadata": {},
   "outputs": [
    {
     "data": {
      "text/plain": [
       "array([[0.27148273, 0.59032351, 0.76802972, 1.        ],\n",
       "       [0.24513643, 0.51841291, 0.65951954, 0.82389073],\n",
       "       [0.24331313, 0.51218195, 0.64878539, 0.79246494],\n",
       "       [0.23806668, 0.4995559 , 0.63603004, 0.78510479],\n",
       "       [0.23974025, 0.50621497, 0.64125157, 0.78516041]])"
      ]
     },
     "execution_count": 34,
     "metadata": {},
     "output_type": "execute_result"
    }
   ],
   "source": [
    "outp.mean(0).mean(0)"
   ]
  },
  {
   "cell_type": "code",
   "execution_count": 36,
   "metadata": {},
   "outputs": [
    {
     "data": {
      "text/plain": [
       "array([[0.11498145, 0.33480516, 0.55673224, 1.        ],\n",
       "       [0.04089157, 0.12377239, 0.20680609, 0.41728546],\n",
       "       [0.01996306, 0.06098981, 0.10184739, 0.20500163],\n",
       "       [0.01001094, 0.03024601, 0.05035408, 0.10161372],\n",
       "       [0.00401774, 0.01204961, 0.0203418 , 0.04009574]])"
      ]
     },
     "execution_count": 36,
     "metadata": {},
     "output_type": "execute_result"
    }
   ],
   "source": [
    "outp2.mean(0).mean(0)"
   ]
  },
  {
   "cell_type": "code",
   "execution_count": 43,
   "metadata": {},
   "outputs": [],
   "source": [
    "sigvec = [0.25,0.5,1,2]\n",
    "Tvec = [10,25,50]\n",
    "rvec = [-0.75,-0.5,-0.25,0,0.25,0.5,0.75]\n",
    "nsim = 1000\n",
    "\n",
    "T = 100\n",
    "r = 3\n",
    "sig = 0.5\n",
    "\n",
    "outp = np.zeros((nsim,len(sigvec),len(Tvec),len(rvec)))\n",
    "outp2 = np.zeros((nsim,len(sigvec),len(Tvec),len(rvec)))\n",
    "rvals = np.zeros((nsim,len(sigvec),len(Tvec),len(rvec)))\n",
    "Tvals = np.zeros((nsim,len(sigvec),len(Tvec),len(rvec)))\n",
    "sigvals = np.zeros((nsim,len(sigvec),len(Tvec),len(rvec)))\n",
    "for sigdx,sig in enumerate(sigvec):\n",
    "    for tdx,T in enumerate(Tvec):\n",
    "        for rdx,r in enumerate(rvec):\n",
    "            for isim in range(nsim):\n",
    "                y = np.random.normal(size=(T+10,1),scale=sig)\n",
    "                for t in range(1,T+10):\n",
    "                    y[t]+=r*y[t-1]\n",
    "                y = y[10:]\n",
    "                outp[isim,sigdx,tdx,rdx] = ols_nocon(y[:-1],y[1:]).b\n",
    "                outp2[isim,sigdx,tdx,rdx] = ols(y[:-1],y[1:]).b[1]\n",
    "                rvals[isim,sigdx,tdx,rdx] = r\n",
    "                Tvals[isim,sigdx,tdx,rdx] = T\n",
    "                sigvals[isim,sigdx,tdx,rdx] = sig\n",
    "                "
   ]
  },
  {
   "cell_type": "code",
   "execution_count": 52,
   "metadata": {},
   "outputs": [
    {
     "name": "stdout",
     "output_type": "stream",
     "text": [
      "       beta    stderr      tstat      pval\n",
      "0  0.000063  0.001506   0.042063  0.966448\n",
      "1  0.010434  0.023817   0.438088  0.661323\n",
      "2 -1.564625  0.025603 -61.111980  0.000000\n",
      "RSq=0.9780039414726629\n"
     ]
    }
   ],
   "source": [
    "y = outp.mean(0).reshape(-1,1)-rvals.mean(0).reshape(-1,1)\n",
    "x1 = Tvals.mean(0).reshape(-1,1)\n",
    "x1 = 1/x1\n",
    "x2 = np.multiply(x1,rvals.mean(0).reshape(-1,1))\n",
    "x = np.hstack((x1,x2))\n",
    "ols(x,y).tidy()"
   ]
  },
  {
   "cell_type": "code",
   "execution_count": 53,
   "metadata": {},
   "outputs": [
    {
     "name": "stdout",
     "output_type": "stream",
     "text": [
      "       beta    stderr      tstat      pval\n",
      "0  0.004342  0.001805   2.405114  0.016167\n",
      "1 -1.235803  0.028546 -43.291897  0.000000\n",
      "2 -2.812644  0.030686 -91.659298  0.000000\n",
      "RSq=0.9918915907573435\n"
     ]
    }
   ],
   "source": [
    "y = outp2.mean(0).reshape(-1,1)-rvals.mean(0).reshape(-1,1)\n",
    "x1 = Tvals.mean(0).reshape(-1,1)\n",
    "x1 = 1/x1\n",
    "x2 = np.multiply(x1,rvals.mean(0).reshape(-1,1))\n",
    "x = np.hstack((x1,x2))\n",
    "ols(x,y).tidy()"
   ]
  },
  {
   "cell_type": "code",
   "execution_count": 71,
   "metadata": {},
   "outputs": [
    {
     "name": "stdout",
     "output_type": "stream",
     "text": [
      "[[ 0.        ]\n",
      " [-0.47415993]\n",
      " [ 0.06005485]\n",
      " [ 3.14523963]\n",
      " [ 5.40726154]]\n",
      "(0.0, 414.6471067942356)\n",
      "(0.01, 410.1280838095669)\n",
      "(0.02, 407.4582208938515)\n",
      "(0.03, 405.3662767599605)\n",
      "(0.04, 403.8522520935441)\n",
      "(0.05, 402.91613998734226)\n",
      "(0.06, 402.61622747507664)\n",
      "(0.07, 402.5265627269838)\n",
      "(0.08, 402.4199180165324)\n",
      "(0.09, 402.30941546815575)\n",
      "(0.1, 402.20024738212805)\n",
      "(0.11, 402.07810762352085)\n",
      "(0.12, 401.95766274043604)\n",
      "(0.13, 401.8391501688185)\n",
      "(0.14, 401.7196061603371)\n",
      "(0.15, 401.60127345716893)\n",
      "(0.16, 401.48470239958164)\n",
      "(0.17, 401.36993223238227)\n",
      "(0.18, 401.2569244434073)\n",
      "(0.19, 401.1456970285682)\n",
      "(0.2, 401.0362454274634)\n",
      "(0.21, 400.9285727166699)\n",
      "(0.22, 400.82267630100154)\n",
      "(0.23, 400.71855394494355)\n",
      "(0.24, 400.61621221232355)\n",
      "(0.25, 400.5156417837984)\n",
      "(0.26, 400.4168399949069)\n",
      "(0.27, 400.3198382727537)\n",
      "(0.28, 400.2232851999221)\n",
      "(0.29, 400.11406722554347)\n",
      "(0.3, 400.00389981098465)\n",
      "(0.31, 399.89529178153305)\n",
      "(0.32, 399.78825090464034)\n",
      "(0.33, 399.68277753882984)\n",
      "(0.34, 399.5788738197508)\n",
      "(0.35, 399.47657773640543)\n",
      "(0.36, 399.37580314595914)\n",
      "(0.37, 399.27659626661665)\n",
      "(0.38, 399.1789550659971)\n",
      "(0.39, 399.0828799940847)\n",
      "(0.4, 398.9883719563453)\n",
      "(0.41, 398.8954314376995)\n",
      "(0.42, 398.80405950808915)\n",
      "(0.43, 398.71425323584833)\n",
      "(0.44, 398.6260151166925)\n",
      "(0.45, 398.53934448479674)\n",
      "(0.46, 398.45424267925273)\n",
      "(0.47, 398.3707083704987)\n",
      "(0.48, 398.2888295038568)\n",
      "(0.49, 398.2083626938362)\n",
      "(0.5, 398.12958369300225)\n",
      "(0.51, 398.05225301726915)\n",
      "(0.52, 397.97669551921246)\n",
      "(0.53, 397.90783449764274)\n",
      "(0.54, 397.841109304506)\n",
      "(0.55, 397.77591066821833)\n",
      "(0.56, 397.71223388832277)\n",
      "(0.57, 397.65007961177935)\n",
      "(0.58, 397.58943109006606)\n",
      "(0.59, 397.53030518568954)\n",
      "(0.6, 397.47268866477987)\n",
      "(0.61, 397.41658156145917)\n",
      "(0.62, 397.36199592747425)\n",
      "(0.63, 397.308950850201)\n",
      "(0.64, 397.2573955458512)\n",
      "(0.65, 397.207372801214)\n",
      "(0.66, 397.159004718512)\n",
      "(0.67, 397.11189313359205)\n",
      "(0.68, 397.0671831716535)\n",
      "(0.69, 397.02714730562127)\n",
      "(0.7, 396.9886269442728)\n",
      "(0.71, 396.95158485948957)\n",
      "(0.72, 396.91602085572254)\n",
      "(0.73, 396.8819350094617)\n",
      "(0.74, 396.84932758396184)\n",
      "(0.75, 396.81819807813065)\n",
      "(0.76, 396.78854575193526)\n",
      "(0.77, 396.76036913302073)\n",
      "(0.78, 396.73366696484493)\n",
      "(0.79, 396.7085274750648)\n",
      "(0.8, 396.6847015217383)\n",
      "(0.81, 396.6643863422393)\n",
      "(0.82, 396.6462918049705)\n",
      "(0.83, 396.62965674683784)\n",
      "(0.84, 396.6144759699569)\n",
      "(0.85, 396.6007571512871)\n",
      "(0.86, 396.6069669518488)\n",
      "(0.87, 396.61763203349676)\n",
      "(0.88, 396.6294146816568)\n",
      "(0.89, 396.642321662087)\n",
      "(0.9, 396.65635218132843)\n",
      "(0.91, 396.6715061137371)\n",
      "(0.92, 396.6917165764131)\n",
      "(0.93, 396.72073520338836)\n",
      "(0.94, 396.7506022037163)\n",
      "(0.95, 396.781311901178)\n",
      "(0.96, 396.8128792498502)\n",
      "(0.97, 396.8452967755051)\n",
      "(0.98, 396.8785646483151)\n",
      "(0.99, 396.9126830763815)\n",
      "(1.0, 396.9476530520451)\n"
     ]
    }
   ],
   "source": [
    "from cvxopt import solvers,matrix\n",
    "\n",
    "solvers.options['show_progress'] = False\n",
    "\n",
    "class Lasso(ols):\n",
    "    def __init__(self,x,y,T):\n",
    "        ols.__init__(self,x,y)\n",
    "        self.T = T\n",
    "        self.bols = self.b\n",
    "        self.b = self.fit(self.X,self.y)\n",
    "        self.pred = self.X.dot(self.b)\n",
    "        self.res = self.y-self.pred\n",
    "        self.rsq = None\n",
    "    def fit(self,x,y):\n",
    "        r = x.shape[1]\n",
    "        matP = np.matrix([[1,-1],[-1,1]])\n",
    "        P = np.kron(matP,cross(x))\n",
    "        matq = np.matrix([[1],[-1]])\n",
    "        q = np.kron(matq,-cross(x,y))\n",
    "        G = -np.eye(2*r)\n",
    "        G = np.vstack((np.ones((1,2*r)),G))\n",
    "        h = np.vstack((np.abs(self.bols).sum()*self.T,np.zeros((2*r,1))))\n",
    "        w = solvers.qp(matrix(P),matrix(q),matrix(G),matrix(h))\n",
    "        w = w['x']\n",
    "        w = np.matrix(w)\n",
    "        return w[:r]-w[r:]\n",
    "    def kfold(self,k):\n",
    "        outp = np.zeros((k,))\n",
    "        for j in range(k):\n",
    "            test = np.arange((j)*(self.n//k),(j+1)*(self.n//k))\n",
    "            trainl = np.arange(0,(j)*(self.n//k))\n",
    "            trainu = np.arange((j+1)*(self.n//k),self.n)\n",
    "            train=np.concatenate((trainl,trainu))\n",
    "            bstar = self.fit(self.X[train,],self.y[train])\n",
    "            err = self.y[test]-self.X[test,].dot(bstar)\n",
    "            outp[j] = np.power(err,2).mean()\n",
    "        return outp\n",
    "\n",
    "x = pd.concat((bwght['cigs'],bwght['faminc'],bwght['male'],bwght['white']),1).values\n",
    "y = bwght['bwght'].values.reshape(-1,1)\n",
    "x = x - x.mean(0)\n",
    "y = y - y.mean()\n",
    "print(ols(x,y).b)\n",
    "Lasso(x,y,0.5).b\n",
    "for i in range(101):\n",
    "    print(i/100.0,Lasso(x,y,i/100.0).kfold(5).mean())\n"
   ]
  },
  {
   "cell_type": "code",
   "execution_count": 67,
   "metadata": {},
   "outputs": [
    {
     "data": {
      "text/plain": [
       "matrix([[ 0.        ],\n",
       "        [-0.46899833],\n",
       "        [ 0.06492681],\n",
       "        [ 2.62354887],\n",
       "        [ 4.56623455]])"
      ]
     },
     "execution_count": 67,
     "metadata": {},
     "output_type": "execute_result"
    }
   ],
   "source": [
    "Lasso(x,y,0.85).b"
   ]
  },
  {
   "cell_type": "code",
   "execution_count": 72,
   "metadata": {},
   "outputs": [
    {
     "data": {
      "text/plain": [
       "array([[1., 0., 0., 0., 0.],\n",
       "       [1., 0., 0., 0., 0.],\n",
       "       [1., 0., 0., 0., 0.],\n",
       "       [0., 1., 0., 0., 0.],\n",
       "       [0., 1., 0., 0., 0.],\n",
       "       [0., 1., 0., 0., 0.],\n",
       "       [0., 0., 1., 0., 0.],\n",
       "       [0., 0., 1., 0., 0.],\n",
       "       [0., 0., 1., 0., 0.],\n",
       "       [0., 0., 0., 1., 0.],\n",
       "       [0., 0., 0., 1., 0.],\n",
       "       [0., 0., 0., 1., 0.],\n",
       "       [0., 0., 0., 0., 1.],\n",
       "       [0., 0., 0., 0., 1.],\n",
       "       [0., 0., 0., 0., 1.]])"
      ]
     },
     "execution_count": 72,
     "metadata": {},
     "output_type": "execute_result"
    }
   ],
   "source": [
    "n = 5\n",
    "T = 3\n",
    "np.kron(np.eye(n),np.ones((T,1)))"
   ]
  },
  {
   "cell_type": "code",
   "execution_count": 73,
   "metadata": {},
   "outputs": [
    {
     "data": {
      "text/plain": [
       "array([[1., 0., 0., 0., 0.],\n",
       "       [0., 1., 0., 0., 0.],\n",
       "       [0., 0., 1., 0., 0.],\n",
       "       [0., 0., 0., 1., 0.],\n",
       "       [0., 0., 0., 0., 1.],\n",
       "       [1., 0., 0., 0., 0.],\n",
       "       [0., 1., 0., 0., 0.],\n",
       "       [0., 0., 1., 0., 0.],\n",
       "       [0., 0., 0., 1., 0.],\n",
       "       [0., 0., 0., 0., 1.],\n",
       "       [1., 0., 0., 0., 0.],\n",
       "       [0., 1., 0., 0., 0.],\n",
       "       [0., 0., 1., 0., 0.],\n",
       "       [0., 0., 0., 1., 0.],\n",
       "       [0., 0., 0., 0., 1.]])"
      ]
     },
     "execution_count": 73,
     "metadata": {},
     "output_type": "execute_result"
    }
   ],
   "source": [
    "np.kron(np.ones((T,1)),np.eye(n))"
   ]
  }
 ],
 "metadata": {
  "kernelspec": {
   "display_name": "Python 3",
   "language": "python",
   "name": "python3"
  },
  "language_info": {
   "codemirror_mode": {
    "name": "ipython",
    "version": 3
   },
   "file_extension": ".py",
   "mimetype": "text/x-python",
   "name": "python",
   "nbconvert_exporter": "python",
   "pygments_lexer": "ipython3",
   "version": "3.6.5"
  }
 },
 "nbformat": 4,
 "nbformat_minor": 2
}

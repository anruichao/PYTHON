{
 "cells": [
  {
   "cell_type": "code",
   "execution_count": 2,
   "metadata": {
    "scrolled": true
   },
   "outputs": [
    {
     "name": "stdout",
     "output_type": "stream",
     "text": [
      "['faminc', 'cigtax', 'cigprice', 'bwght', 'parity', 'male', 'white', 'cigs', 'lbwght', 'bwghtlbs', 'packs', 'lfaminc']\n",
      "0 faminc\n",
      "1 cigtax\n",
      "2 cigprice\n",
      "3 bwght\n",
      "4 parity\n",
      "5 male\n",
      "6 white\n",
      "7 cigs\n",
      "8 lbwght\n",
      "9 bwghtlbs\n",
      "10 packs\n",
      "11 lfaminc\n"
     ]
    }
   ],
   "source": [
    "\n",
    "import csv\n",
    "import numpy as np\n",
    "from scipy.stats import norm\n",
    "\n",
    "file = open('bwght.csv')\n",
    "file.close()\n",
    "\n",
    "inmat = []\n",
    "with open('bwght.csv') as file:\n",
    "    ## Type what you want here and it works without closing the file\n",
    "    reader = csv.reader(file)\n",
    "    for line in reader:\n",
    "        inmat.append(line)\n",
    "\n",
    "\n",
    "inmat = [row[:4]+row[6:] for row in inmat]\n",
    "\n",
    "print(inmat[0])\n",
    "for ndx,item in enumerate(inmat[0]):\n",
    "    print(ndx,item)\n",
    "data = np.matrix(inmat[1:],dtype=float)\n",
    "\n"
   ]
  },
  {
   "cell_type": "code",
   "execution_count": 7,
   "metadata": {},
   "outputs": [
    {
     "ename": "NameError",
     "evalue": "name 'n' is not defined",
     "output_type": "error",
     "traceback": [
      "\u001b[1;31m---------------------------------------------------------------------------\u001b[0m",
      "\u001b[1;31mNameError\u001b[0m                                 Traceback (most recent call last)",
      "\u001b[1;32m<ipython-input-7-feac7a6bf030>\u001b[0m in \u001b[0;36m<module>\u001b[1;34m()\u001b[0m\n\u001b[0;32m      1\u001b[0m \u001b[0msomkes\u001b[0m\u001b[1;33m=\u001b[0m\u001b[0mnp\u001b[0m\u001b[1;33m.\u001b[0m\u001b[0marray\u001b[0m\u001b[1;33m(\u001b[0m\u001b[0mdata\u001b[0m\u001b[1;33m[\u001b[0m\u001b[1;33m:\u001b[0m\u001b[1;33m,\u001b[0m\u001b[1;36m7\u001b[0m\u001b[1;33m]\u001b[0m\u001b[1;33m>\u001b[0m\u001b[1;36m0\u001b[0m\u001b[1;33m,\u001b[0m\u001b[0mdtype\u001b[0m\u001b[1;33m=\u001b[0m\u001b[0mint\u001b[0m\u001b[1;33m)\u001b[0m\u001b[1;33m\u001b[0m\u001b[0m\n\u001b[1;32m----> 2\u001b[1;33m \u001b[0mbigX\u001b[0m \u001b[1;33m=\u001b[0m \u001b[0mnp\u001b[0m\u001b[1;33m.\u001b[0m\u001b[0mhstack\u001b[0m\u001b[1;33m(\u001b[0m\u001b[1;33m(\u001b[0m\u001b[0mnp\u001b[0m\u001b[1;33m.\u001b[0m\u001b[0mones\u001b[0m\u001b[1;33m(\u001b[0m\u001b[1;33m(\u001b[0m\u001b[0mn\u001b[0m\u001b[1;33m,\u001b[0m\u001b[1;36m1\u001b[0m\u001b[1;33m)\u001b[0m\u001b[1;33m)\u001b[0m\u001b[1;33m,\u001b[0m\u001b[0mdata\u001b[0m\u001b[1;33m[\u001b[0m\u001b[1;33m:\u001b[0m\u001b[1;33m,\u001b[0m\u001b[1;36m0\u001b[0m\u001b[1;33m]\u001b[0m\u001b[1;33m,\u001b[0m\u001b[0mdata\u001b[0m\u001b[1;33m[\u001b[0m\u001b[1;33m:\u001b[0m\u001b[1;33m,\u001b[0m\u001b[1;36m6\u001b[0m\u001b[1;33m]\u001b[0m\u001b[1;33m)\u001b[0m\u001b[1;33m)\u001b[0m\u001b[1;33m\u001b[0m\u001b[0m\n\u001b[0m\u001b[0;32m      3\u001b[0m \u001b[0mn\u001b[0m \u001b[1;33m=\u001b[0m \u001b[0mlen\u001b[0m\u001b[1;33m(\u001b[0m\u001b[0my\u001b[0m\u001b[1;33m)\u001b[0m\u001b[1;33m\u001b[0m\u001b[0m\n",
      "\u001b[1;31mNameError\u001b[0m: name 'n' is not defined"
     ]
    }
   ],
   "source": [
    "somkes=np.array(data[:,7]>0,dtype=int)\n",
    "bigX = np.hstack((np.ones((n,1)),data[:,0],data[:,6]))\n",
    "n = len(y)"
   ]
  },
  {
   "cell_type": "code",
   "execution_count": 12,
   "metadata": {},
   "outputs": [],
   "source": [
    "n = len(y)\n",
    "smokes=np.array(data[:,7]>0,dtype=int)\n",
    "y=smokes\n",
    "bigX = np.hstack((np.ones((n,1)),data[:,0],data[:,6]))\n"
   ]
  },
  {
   "cell_type": "code",
   "execution_count": 18,
   "metadata": {},
   "outputs": [],
   "source": [
    "def bigF(val):\n",
    "    return 1/(1+np.exp(-val))\n",
    "bigF = lambda x: 1/(1+np.exp(-x))\n",
    "littleF = lambda x:bigF(x)*(1-bigF(x))\n",
    "def logL(b):\n",
    "    return y*np.log(bigF(bigX.dot(b)))+(1-y)*np.log(1-bigF(bigX.dot(b)))\n",
    "def deriv(b):\n",
    "    suma = np.zero((r,))\n",
    "    for i in range(n):\n",
    "        xval = bigX[i,].reshape((r,))\n",
    "        inside = xval.T.dot(b)\n",
    "        suma += (y[i]-bigF(inside))[0,0]*(xval)\n",
    "    return suma\n",
    "def hess(b):\n",
    "    suma = np.zero((r,))\n",
    "    for i in range(n):\n",
    "        xval = bigX[i,].reshape((r,))\n",
    "        inside = xval.T.dot(b)\n",
    "        suma += -littleF(inside).dot(xval(xval.T))\n",
    "    return suma"
   ]
  },
  {
   "cell_type": "code",
   "execution_count": null,
   "metadata": {},
   "outputs": [],
   "source": [
    "from scipy.optimize import root\n",
    "b = root(deriv,x0=np.zeros((r,)),jac=hess)"
   ]
  },
  {
   "cell_type": "code",
   "execution_count": null,
   "metadata": {},
   "outputs": [],
   "source": [
    "hess_star = b.fjac\n",
    "b = b.x"
   ]
  },
  {
   "cell_type": "code",
   "execution_count": 22,
   "metadata": {},
   "outputs": [],
   "source": [
    "def cross(*args):  # Can put either 1 or 2 things into this function\n",
    "    x = args[0]\n",
    "    if len(args)==1:\n",
    "        y = x\n",
    "    else:\n",
    "        y = args[1]\n",
    "    return(x.T.dot(y))\n",
    "def least_squares(X,y):\n",
    "    return(np.linalg.solve(cross(X),cross(X,y)))\n",
    "def ols(X,y):\n",
    "    # goals: bhats, se, tstats, pvals, Rsq\n",
    "    b = least_squares(X,y)\n",
    "    yhat = X.dot(b)\n",
    "    e = y-yhat\n",
    "    RSS = cross(e)[0,0]\n",
    "    ybar = y.mean()\n",
    "    e_0 = y-ybar\n",
    "    TSS = cross(e_0)[0,0]\n",
    "    Rsq = 1-RSS/TSS\n",
    "    sig = np.sqrt(RSS/n)\n",
    "    vb = np.linalg.inv(cross(X))*(sig**2)\n",
    "    se = np.sqrt(np.diag(vb)).reshape(-1,1)\n",
    "    tstats = b/se\n",
    "    pval = norm.cdf(-np.abs(tstats))*2\n",
    "    return(b,se,tstats,pval,Rsq)\n",
    "def white(X,y):\n",
    "    # goals: bhats, se, tstats, pvals, Rsq\n",
    "    b = least_squares(X,y)\n",
    "    yhat = X.dot(b)\n",
    "    e = y-yhat\n",
    "    RSS = cross(e)[0,0]\n",
    "    ybar = y.mean()\n",
    "    e_0 = y-ybar\n",
    "    TSS = cross(e_0)[0,0]\n",
    "    Rsq = 1-RSS/TSS\n",
    "    sig = np.sqrt(RSS/n)\n",
    "    vb = np.diagflat(np.power(e,2))\n",
    "    vb = X.T.dot(vb).dot(X)\n",
    "    vb = np.linalg.inv(cross(X))*vb*np.linalg.inv(cross(X))\n",
    "    se = np.sqrt(np.diag(vb)).reshape(-1,1)\n",
    "    tstats = b/se\n",
    "    pval = norm.cdf(-np.abs(tstats))*2\n",
    "    return(b,se,tstats,pval,Rsq)\n",
    "def tidyols(X,y):\n",
    "    (b,se,tstats,pval,Rsq) = ols(X,y)\n",
    "    print(np.hstack((b,se,tstats,pval)))\n",
    "    print(\"RSq=\"+str(Rsq))    \n",
    "def tidywhitey(X,y):\n",
    "    (b,se,tstats,pval,Rsq) = white(X,y)\n",
    "    print(np.hstack((b,se,tstats,pval)))\n",
    "    print(\"RSq=\"+str(Rsq))    "
   ]
  },
  {
   "cell_type": "code",
   "execution_count": 14,
   "metadata": {
    "scrolled": true
   },
   "outputs": [
    {
     "name": "stdout",
     "output_type": "stream",
     "text": [
      "[[  1.12065256e+02   1.44005920e+00   7.78198954e+01   0.00000000e+00]\n",
      " [ -4.74159926e-01   9.07534706e-02  -5.22470296e+00   1.74434907e-07]\n",
      " [  6.00548455e-02   3.03915114e-02   1.97604011e+00   4.81502344e-02]\n",
      " [  3.14523963e+00   1.06882961e+00   2.94269509e+00   3.25368704e-03]\n",
      " [  5.40726154e+00   1.36284948e+00   3.96761463e+00   7.25955979e-05]]\n",
      "RSq=0.046451096834\n",
      "[[  1.12065256e+02   1.44906731e+00   7.73361287e+01   0.00000000e+00]\n",
      " [ -4.74159926e-01   8.92811029e-02  -5.31086547e+00   1.09105852e-07]\n",
      " [  6.00548455e-02   2.96038813e-02   2.02861391e+00   4.24976302e-02]\n",
      " [  3.14523963e+00   1.06335018e+00   2.95785875e+00   3.09784038e-03]\n",
      " [  5.40726154e+00   1.42936280e+00   3.78298745e+00   1.54957230e-04]]\n",
      "RSq=0.046451096834\n"
     ]
    }
   ],
   "source": [
    "y = data[:,3]\n",
    "y\n",
    "x = data[:,7]\n",
    "x\n",
    "n = len(y)\n",
    "bigX = np.ones((n,1))\n",
    "bigX = np.hstack((bigX,x))\n",
    "bigX\n",
    "\n",
    "bigX = np.hstack((np.ones((n,1)),data[:,7],data[:,0],data[:,5],data[:,6]))\n",
    "    \n",
    "tidyols(bigX,y)\n",
    "tidywhitey(bigX,y)\n"
   ]
  },
  {
   "cell_type": "code",
   "execution_count": null,
   "metadata": {},
   "outputs": [],
   "source": []
  },
  {
   "cell_type": "markdown",
   "metadata": {},
   "source": [
    "Here is a linear regression line: $y_i=\\beta_0+\\beta_1x_i+e_i$\n"
   ]
  },
  {
   "cell_type": "code",
   "execution_count": 23,
   "metadata": {},
   "outputs": [
    {
     "data": {
      "text/plain": [
       "0.017858974247728088"
      ]
     },
     "execution_count": 23,
     "metadata": {},
     "output_type": "execute_result"
    }
   ],
   "source": [
    "n = 100\n",
    "r = 2\n",
    "sigx=1\n",
    "sig=1\n",
    "x= np.random.normal(size=(n,r),loc=0,scale=sigx)\n",
    "y= np.random.normal(size=(n,1),loc=0,scale=sig)\n",
    "bigX = np.hstack((np.ones((n,1)),x))\n",
    "ols(bigX,y)[-1]"
   ]
  },
  {
   "cell_type": "code",
   "execution_count": 24,
   "metadata": {},
   "outputs": [
    {
     "ename": "NameError",
     "evalue": "name 'rho' is not defined",
     "output_type": "error",
     "traceback": [
      "\u001b[1;31m---------------------------------------------------------------------------\u001b[0m",
      "\u001b[1;31mNameError\u001b[0m                                 Traceback (most recent call last)",
      "\u001b[1;32m<ipython-input-24-41325ae622b8>\u001b[0m in \u001b[0;36m<module>\u001b[1;34m()\u001b[0m\n\u001b[0;32m      6\u001b[0m \u001b[0my\u001b[0m\u001b[1;33m=\u001b[0m \u001b[0mnp\u001b[0m\u001b[1;33m.\u001b[0m\u001b[0mrandom\u001b[0m\u001b[1;33m.\u001b[0m\u001b[0mnormal\u001b[0m\u001b[1;33m(\u001b[0m\u001b[0msize\u001b[0m\u001b[1;33m=\u001b[0m\u001b[1;33m(\u001b[0m\u001b[0mn\u001b[0m\u001b[1;33m,\u001b[0m\u001b[1;36m1\u001b[0m\u001b[1;33m)\u001b[0m\u001b[1;33m,\u001b[0m\u001b[0mloc\u001b[0m\u001b[1;33m=\u001b[0m\u001b[1;36m0\u001b[0m\u001b[1;33m,\u001b[0m\u001b[0mscale\u001b[0m\u001b[1;33m=\u001b[0m\u001b[0msig\u001b[0m\u001b[1;33m)\u001b[0m\u001b[1;33m\u001b[0m\u001b[0m\n\u001b[0;32m      7\u001b[0m \u001b[1;32mfor\u001b[0m \u001b[0mi\u001b[0m \u001b[1;32min\u001b[0m \u001b[0mrange\u001b[0m\u001b[1;33m(\u001b[0m\u001b[1;36m1\u001b[0m\u001b[1;33m,\u001b[0m\u001b[0mn\u001b[0m\u001b[1;33m)\u001b[0m\u001b[1;33m:\u001b[0m\u001b[1;33m\u001b[0m\u001b[0m\n\u001b[1;32m----> 8\u001b[1;33m     \u001b[0my\u001b[0m\u001b[1;33m[\u001b[0m\u001b[0mi\u001b[0m\u001b[1;33m]\u001b[0m \u001b[1;33m+=\u001b[0m \u001b[0mrho\u001b[0m\u001b[1;33m*\u001b[0m\u001b[0my\u001b[0m\u001b[1;33m[\u001b[0m\u001b[0mi\u001b[0m\u001b[1;33m-\u001b[0m\u001b[1;36m1\u001b[0m\u001b[1;33m]\u001b[0m\u001b[1;33m\u001b[0m\u001b[0m\n\u001b[0m\u001b[0;32m      9\u001b[0m \u001b[0my\u001b[0m\u001b[1;33m\u001b[0m\u001b[0m\n",
      "\u001b[1;31mNameError\u001b[0m: name 'rho' is not defined"
     ]
    }
   ],
   "source": [
    "n = 100\n",
    "r = 2\n",
    "sigx=1\n",
    "sig=1\n",
    "rho = o\n",
    "rsq=np.zeros((1000,))\n",
    "y= np.random.normal(size=(n,1),loc=0,scale=sig)\n",
    "for i in range(1,n):\n",
    "    y[i] += rho*y[i-1]\n",
    "y"
   ]
  },
  {
   "cell_type": "code",
   "execution_count": null,
   "metadata": {},
   "outputs": [],
   "source": [
    "r=2\n",
    "n=50\n",
    "outp1 = np.zeros((1000,2))\n",
    "for isim in range(1000):\n",
    "    x = np.random.normal((50,1))\n",
    "    e = np.random.normal((50,1))\n",
    "    y = 0.5 + x + e\n",
    "    y = (y>=0).astype(int)\n",
    "    bigx = np.hstack((np.ones((50,1)),x))\n",
    "    \n",
    "    b = root(deriv,x0=np.zeros((r,)),jac=hess)\n",
    "    outp1[isim,:]=b,x\n",
    "    outp2[isim,:]=np."
   ]
  }
 ],
 "metadata": {
  "kernelspec": {
   "display_name": "Python 3",
   "language": "python",
   "name": "python3"
  },
  "language_info": {
   "codemirror_mode": {
    "name": "ipython",
    "version": 3
   },
   "file_extension": ".py",
   "mimetype": "text/x-python",
   "name": "python",
   "nbconvert_exporter": "python",
   "pygments_lexer": "ipython3",
   "version": "3.6.5"
  }
 },
 "nbformat": 4,
 "nbformat_minor": 2
}

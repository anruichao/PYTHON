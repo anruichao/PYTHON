{
 "cells": [
  {
   "cell_type": "code",
   "execution_count": null,
   "metadata": {},
   "outputs": [],
   "source": [
    "outp = {1:0}\n",
    "for xstart in range(2,3):\n",
    "    x = xstart\n",
    "    count = 1\n",
    "    while True:\n",
    "        if x%2==0:\n",
    "            x //= 2\n",
    "        else:\n",
    "            for a in range(0,10):\n",
    "                x *= a\n",
    "            for b in range(0,10):\n",
    "                x += b\n",
    "        if x < xstart: \n",
    "            count += outp[x]\n",
    "            break\n",
    "        count += 1\n",
    "    outp[xstart] = count\n",
    "print(max(outp.values()))"
   ]
  },
  {
   "cell_type": "code",
   "execution_count": null,
   "metadata": {},
   "outputs": [],
   "source": [
    "outp = {1:0}\n",
    "for xstart in range(2,4):\n",
    "    x = xstart\n",
    "    count = 1\n",
    "    while True:\n",
    "        if x%2==0:\n",
    "            x //= 2\n",
    "        else:\n",
    "            for a in range(0,10):\n",
    "                x *= a\n",
    "            for b in range(0,10):\n",
    "                x += b\n",
    "        if x < xstart: \n",
    "            count += outp[x]\n",
    "            break\n",
    "        count += 1\n",
    "    outp[xstart] = count\n",
    "print(max(outp.values()))"
   ]
  }
 ],
 "metadata": {
  "kernelspec": {
   "display_name": "Python 3",
   "language": "python",
   "name": "python3"
  },
  "language_info": {
   "codemirror_mode": {
    "name": "ipython",
    "version": 3
   },
   "file_extension": ".py",
   "mimetype": "text/x-python",
   "name": "python",
   "nbconvert_exporter": "python",
   "pygments_lexer": "ipython3",
   "version": "3.6.5"
  }
 },
 "nbformat": 4,
 "nbformat_minor": 2
}

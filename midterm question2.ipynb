{
 "cells": [
  {
   "cell_type": "code",
   "execution_count": null,
   "metadata": {},
   "outputs": [],
   "source": [
    "import numpy as np\n",
    "import pandas as pd\n",
    "import matplotlib as mpl\n",
    "import matplotlib.pyplot as plt\n",
    "fig = plt.figure()\n",
    "def gold_rule1(angel):\n",
    "    a = angel\n",
    "    for b in np.linspace(1, 200, 400):\n",
    "        plt.scatter(b*np.sin(2*np.pi*a*b),b*np.cos(2*np.pi*a*b),c= 'blue', s = 100, alpha = 0.5)\n",
    "gold_rule1(0.135421)\n",
    "\n",
    "def gold_rule2(angel):\n",
    "    c = angel\n",
    "    for d in np.linspace(1, 300, 600):\n",
    "        plt.scatter(d*np.cos(1*np.pi*c*d),d*np.sin(1*np.pi*c*d),c= 'green', s = 100, alpha = 0.5)\n",
    "gold_rule2(0.1237361)\n",
    "\n",
    "def gold_rule3(angel):\n",
    "    c = angel\n",
    "    for d in np.linspace(1, 400, 800):\n",
    "        plt.scatter(d*np.sin(1.5*np.pi*c*d),d*np.cos(1.5*np.pi*c*d),c= 'orange', s = 100, alpha = 0.5)\n",
    "gold_rule3(0.1469621)"
   ]
  }
 ],
 "metadata": {
  "kernelspec": {
   "display_name": "Python 3",
   "language": "python",
   "name": "python3"
  },
  "language_info": {
   "codemirror_mode": {
    "name": "ipython",
    "version": 3
   },
   "file_extension": ".py",
   "mimetype": "text/x-python",
   "name": "python",
   "nbconvert_exporter": "python",
   "pygments_lexer": "ipython3",
   "version": "3.6.5"
  }
 },
 "nbformat": 4,
 "nbformat_minor": 2
}
